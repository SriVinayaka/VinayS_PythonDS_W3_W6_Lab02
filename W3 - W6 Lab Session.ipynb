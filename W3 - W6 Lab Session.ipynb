{
 "cells": [
  {
   "cell_type": "markdown",
   "id": "1bd3906b",
   "metadata": {
    "id": "1bd3906b"
   },
   "source": [
    "## Lab Session "
   ]
  },
  {
   "cell_type": "markdown",
   "id": "ccfb2855",
   "metadata": {
    "id": "ccfb2855"
   },
   "source": [
    "### Learning Objective:\n",
    "- Working with data using python libaries.\n",
    "- Data Visualization.\n",
    "- Exploratory data analysis and data preprocessing.\n",
    "- Building a Linear regression model to predict the tip amount based on different input features."
   ]
  },
  {
   "cell_type": "markdown",
   "id": "61ef0de3",
   "metadata": {
    "id": "61ef0de3"
   },
   "source": [
    "### About the dataset (Customer Tip Data)\n",
    "\n",
    "#### Dataset Source: https://www.kaggle.com/datasets/ranjeetjain3/seaborn-tips-dataset\n",
    "\n",
    "The dataset contains information about the 244 orders served at a restaurant in the United States. Each observation includes the factors related to the order like total bill, time, the total number of people in a group, gender of the person paying for the order and so on.\n",
    "\n",
    "#### Attribute Information:\n",
    "\n",
    "- **total_bill:** Total bill (cost of the meal), including tax, in US dollars\n",
    "- **tip:** Tip in US dollars\n",
    "- **sex:** Sex of person paying for the meal\n",
    "- **smoker:** There is a smoker in a group or not\n",
    "- **day:** Day on which the order is served\n",
    "- **time:** Time of the order\n",
    "- **size:** Size of the group\n",
    "\n",
    "Food servers’ tips in restaurants may be influenced by many factors, including the nature of the restaurant, size of the party, and table locations in the restaurant. Restaurant managers need to know which factors matter when they assign tables to food servers. For the sake of staff morale, they usually want to avoid either the substance or the appearance of unfair\n",
    "treatment of the servers, for whom tips (at least in restaurants in the UnitedStates) are a major component of pay."
   ]
  },
  {
   "cell_type": "markdown",
   "id": "e4e44e06",
   "metadata": {
    "id": "e4e44e06"
   },
   "source": [
    "### Import required libraries"
   ]
  },
  {
   "cell_type": "code",
   "id": "89b9d6d7",
   "metadata": {
    "id": "89b9d6d7",
    "ExecuteTime": {
     "end_time": "2024-10-27T13:52:23.244121Z",
     "start_time": "2024-10-27T13:52:23.237919Z"
    }
   },
   "source": [
    "import numpy as np\n",
    "import pandas as pd\n",
    "import matplotlib.pyplot as  plt\n",
    "import seaborn as sns\n",
    "import warnings\n",
    "warnings.filterwarnings('ignore')\n",
    "import sklearn\n",
    "from sklearn.preprocessing import StandardScaler, LabelEncoder\n",
    "from sklearn.preprocessing import OneHotEncoder, MinMaxScaler\n",
    "from sklearn.linear_model import LogisticRegression, _linear_loss\n",
    "from sklearn.model_selection import train_test_split\n",
    "from sklearn.linear_model import SGDClassifier\n",
    "from sklearn.linear_model import LinearRegression \n",
    "from sklearn.metrics import r2_score\n"
   ],
   "outputs": [],
   "execution_count": 228
  },
  {
   "cell_type": "markdown",
   "id": "9ead3dea",
   "metadata": {
    "id": "9ead3dea"
   },
   "source": [
    "### Load the dataset"
   ]
  },
  {
   "cell_type": "code",
   "id": "a9ba115f",
   "metadata": {
    "id": "a9ba115f",
    "ExecuteTime": {
     "end_time": "2024-10-27T13:52:23.282076Z",
     "start_time": "2024-10-27T13:52:23.275133Z"
    }
   },
   "source": [
    "data_sheet=\"./tips.csv\"\n",
    "df = pd.read_csv(data_sheet)"
   ],
   "outputs": [],
   "execution_count": 229
  },
  {
   "metadata": {
    "ExecuteTime": {
     "end_time": "2024-10-27T13:52:23.371698Z",
     "start_time": "2024-10-27T13:52:23.360442Z"
    }
   },
   "cell_type": "code",
   "source": "df.head()",
   "id": "e8cb784f91d9fd32",
   "outputs": [
    {
     "data": {
      "text/plain": [
       "   total_bill   tip     sex smoker  day    time  size\n",
       "0       16.99  1.01  Female     No  Sun  Dinner     2\n",
       "1       10.34  1.66    Male     No  Sun  Dinner     3\n",
       "2       21.01  3.50    Male     No  Sun  Dinner     3\n",
       "3       23.68  3.31    Male     No  Sun  Dinner     2\n",
       "4       24.59  3.61  Female     No  Sun  Dinner     4"
      ],
      "text/html": [
       "<div>\n",
       "<style scoped>\n",
       "    .dataframe tbody tr th:only-of-type {\n",
       "        vertical-align: middle;\n",
       "    }\n",
       "\n",
       "    .dataframe tbody tr th {\n",
       "        vertical-align: top;\n",
       "    }\n",
       "\n",
       "    .dataframe thead th {\n",
       "        text-align: right;\n",
       "    }\n",
       "</style>\n",
       "<table border=\"1\" class=\"dataframe\">\n",
       "  <thead>\n",
       "    <tr style=\"text-align: right;\">\n",
       "      <th></th>\n",
       "      <th>total_bill</th>\n",
       "      <th>tip</th>\n",
       "      <th>sex</th>\n",
       "      <th>smoker</th>\n",
       "      <th>day</th>\n",
       "      <th>time</th>\n",
       "      <th>size</th>\n",
       "    </tr>\n",
       "  </thead>\n",
       "  <tbody>\n",
       "    <tr>\n",
       "      <th>0</th>\n",
       "      <td>16.99</td>\n",
       "      <td>1.01</td>\n",
       "      <td>Female</td>\n",
       "      <td>No</td>\n",
       "      <td>Sun</td>\n",
       "      <td>Dinner</td>\n",
       "      <td>2</td>\n",
       "    </tr>\n",
       "    <tr>\n",
       "      <th>1</th>\n",
       "      <td>10.34</td>\n",
       "      <td>1.66</td>\n",
       "      <td>Male</td>\n",
       "      <td>No</td>\n",
       "      <td>Sun</td>\n",
       "      <td>Dinner</td>\n",
       "      <td>3</td>\n",
       "    </tr>\n",
       "    <tr>\n",
       "      <th>2</th>\n",
       "      <td>21.01</td>\n",
       "      <td>3.50</td>\n",
       "      <td>Male</td>\n",
       "      <td>No</td>\n",
       "      <td>Sun</td>\n",
       "      <td>Dinner</td>\n",
       "      <td>3</td>\n",
       "    </tr>\n",
       "    <tr>\n",
       "      <th>3</th>\n",
       "      <td>23.68</td>\n",
       "      <td>3.31</td>\n",
       "      <td>Male</td>\n",
       "      <td>No</td>\n",
       "      <td>Sun</td>\n",
       "      <td>Dinner</td>\n",
       "      <td>2</td>\n",
       "    </tr>\n",
       "    <tr>\n",
       "      <th>4</th>\n",
       "      <td>24.59</td>\n",
       "      <td>3.61</td>\n",
       "      <td>Female</td>\n",
       "      <td>No</td>\n",
       "      <td>Sun</td>\n",
       "      <td>Dinner</td>\n",
       "      <td>4</td>\n",
       "    </tr>\n",
       "  </tbody>\n",
       "</table>\n",
       "</div>"
      ]
     },
     "execution_count": 230,
     "metadata": {},
     "output_type": "execute_result"
    }
   ],
   "execution_count": 230
  },
  {
   "cell_type": "markdown",
   "id": "42cd8e14",
   "metadata": {
    "id": "42cd8e14"
   },
   "source": [
    "### 1. Make a list of categorical and numerical columns in the data."
   ]
  },
  {
   "cell_type": "code",
   "id": "abc60524",
   "metadata": {
    "id": "abc60524",
    "ExecuteTime": {
     "end_time": "2024-10-27T13:52:23.458847Z",
     "start_time": "2024-10-27T13:52:23.453217Z"
    }
   },
   "source": [
    "categorical_cols = df.select_dtypes(include=['object', 'category']).columns.tolist()\n",
    "numerical_cols = df.select_dtypes(include=['number']).columns.tolist()\n"
   ],
   "outputs": [],
   "execution_count": 231
  },
  {
   "metadata": {
    "ExecuteTime": {
     "end_time": "2024-10-27T13:52:23.537247Z",
     "start_time": "2024-10-27T13:52:23.532713Z"
    }
   },
   "cell_type": "code",
   "source": "print(\"Categorical Columns:\", categorical_cols)",
   "id": "3a91abf1dcd4779e",
   "outputs": [
    {
     "name": "stdout",
     "output_type": "stream",
     "text": [
      "Categorical Columns: ['sex', 'smoker', 'day', 'time']\n"
     ]
    }
   ],
   "execution_count": 232
  },
  {
   "metadata": {
    "ExecuteTime": {
     "end_time": "2024-10-27T13:52:23.846090Z",
     "start_time": "2024-10-27T13:52:23.841255Z"
    }
   },
   "cell_type": "code",
   "source": "print(\"Numerical Columns:\", numerical_cols)\n",
   "id": "24fdfba60844a7f1",
   "outputs": [
    {
     "name": "stdout",
     "output_type": "stream",
     "text": [
      "Numerical Columns: ['total_bill', 'tip', 'size']\n"
     ]
    }
   ],
   "execution_count": 233
  },
  {
   "metadata": {
    "ExecuteTime": {
     "end_time": "2024-10-27T13:52:23.987625Z",
     "start_time": "2024-10-27T13:52:23.983105Z"
    }
   },
   "cell_type": "code",
   "source": [
    "# Code from Faculty\n",
    "\n",
    "cat = []\n",
    "num = []\n"
   ],
   "id": "3d038c0f8ae9fd92",
   "outputs": [],
   "execution_count": 234
  },
  {
   "metadata": {
    "ExecuteTime": {
     "end_time": "2024-10-27T13:52:24.070377Z",
     "start_time": "2024-10-27T13:52:24.065375Z"
    }
   },
   "cell_type": "code",
   "source": [
    "for i in df.columns:\n",
    "    if df[i].dtypes=='object':\n",
    "        cat.append(i)\n",
    "    else:\n",
    "        num.append(i)\n",
    "    "
   ],
   "id": "afa687846f460b6c",
   "outputs": [],
   "execution_count": 235
  },
  {
   "metadata": {
    "ExecuteTime": {
     "end_time": "2024-10-27T13:52:24.122768Z",
     "start_time": "2024-10-27T13:52:24.118115Z"
    }
   },
   "cell_type": "code",
   "source": "print(\"Categorical Columns:\\n\", cat)\n",
   "id": "66ac4170f7d2fb2",
   "outputs": [
    {
     "name": "stdout",
     "output_type": "stream",
     "text": [
      "Categorical Columns:\n",
      " ['sex', 'smoker', 'day', 'time']\n"
     ]
    }
   ],
   "execution_count": 236
  },
  {
   "metadata": {
    "ExecuteTime": {
     "end_time": "2024-10-27T13:52:24.214126Z",
     "start_time": "2024-10-27T13:52:24.209265Z"
    }
   },
   "cell_type": "code",
   "source": "print(\"Numerical Columns:\\n\", num)\n",
   "id": "c5ee07e26bf75c24",
   "outputs": [
    {
     "name": "stdout",
     "output_type": "stream",
     "text": [
      "Numerical Columns:\n",
      " ['total_bill', 'tip', 'size']\n"
     ]
    }
   ],
   "execution_count": 237
  },
  {
   "cell_type": "markdown",
   "id": "41ef8841",
   "metadata": {
    "id": "41ef8841"
   },
   "source": [
    "### 2. Compute the average bill amount for each day."
   ]
  },
  {
   "cell_type": "code",
   "id": "75b5c0f2",
   "metadata": {
    "id": "75b5c0f2",
    "ExecuteTime": {
     "end_time": "2024-10-27T13:52:24.322046Z",
     "start_time": "2024-10-27T13:52:24.316171Z"
    }
   },
   "source": "average_bill_per_day = df.groupby('day')['total_bill'].mean().reset_index()\n",
   "outputs": [],
   "execution_count": 238
  },
  {
   "metadata": {
    "ExecuteTime": {
     "end_time": "2024-10-27T13:52:24.542309Z",
     "start_time": "2024-10-27T13:52:24.538298Z"
    }
   },
   "cell_type": "code",
   "source": "average_bill_per_day.columns = ['day', 'average_total_bill']\n",
   "id": "5cf50925f5168056",
   "outputs": [],
   "execution_count": 239
  },
  {
   "metadata": {
    "ExecuteTime": {
     "end_time": "2024-10-27T13:52:24.575795Z",
     "start_time": "2024-10-27T13:52:24.569010Z"
    }
   },
   "cell_type": "code",
   "source": "print(average_bill_per_day)\n",
   "id": "961b2d8ad1154b7",
   "outputs": [
    {
     "name": "stdout",
     "output_type": "stream",
     "text": [
      "    day  average_total_bill\n",
      "0   Fri           17.151579\n",
      "1   Sat           20.441379\n",
      "2   Sun           21.410000\n",
      "3  Thur           17.682742\n"
     ]
    }
   ],
   "execution_count": 240
  },
  {
   "metadata": {
    "ExecuteTime": {
     "end_time": "2024-10-27T13:52:24.645359Z",
     "start_time": "2024-10-27T13:52:24.621958Z"
    }
   },
   "cell_type": "code",
   "source": "df.groupby('day')['total_bill'].mean()\n",
   "id": "b0a03145c2069eb2",
   "outputs": [
    {
     "data": {
      "text/plain": [
       "day\n",
       "Fri     17.151579\n",
       "Sat     20.441379\n",
       "Sun     21.410000\n",
       "Thur    17.682742\n",
       "Name: total_bill, dtype: float64"
      ]
     },
     "execution_count": 241,
     "metadata": {},
     "output_type": "execute_result"
    }
   ],
   "execution_count": 241
  },
  {
   "cell_type": "markdown",
   "id": "18894954",
   "metadata": {
    "id": "18894954"
   },
   "source": [
    "### 3. Which gender is more generous in giving tips?"
   ]
  },
  {
   "cell_type": "code",
   "id": "f506a83a",
   "metadata": {
    "id": "f506a83a",
    "ExecuteTime": {
     "end_time": "2024-10-27T13:52:24.751629Z",
     "start_time": "2024-10-27T13:52:24.745318Z"
    }
   },
   "source": "average_tip_per_gender = df.groupby('sex')['tip'].mean().reset_index()\n",
   "outputs": [],
   "execution_count": 242
  },
  {
   "metadata": {
    "ExecuteTime": {
     "end_time": "2024-10-27T13:52:24.874568Z",
     "start_time": "2024-10-27T13:52:24.868072Z"
    }
   },
   "cell_type": "code",
   "source": "average_tip_per_gender.columns = ['gender', 'average_tip']\n",
   "id": "71fccd3ba057a9d1",
   "outputs": [],
   "execution_count": 243
  },
  {
   "metadata": {
    "ExecuteTime": {
     "end_time": "2024-10-27T13:52:25.094743Z",
     "start_time": "2024-10-27T13:52:25.079201Z"
    }
   },
   "cell_type": "code",
   "source": "print(average_tip_per_gender)\n",
   "id": "88a08d224d85eb0b",
   "outputs": [
    {
     "name": "stdout",
     "output_type": "stream",
     "text": [
      "   gender  average_tip\n",
      "0  Female     2.833448\n",
      "1    Male     3.089618\n"
     ]
    }
   ],
   "execution_count": 244
  },
  {
   "metadata": {
    "ExecuteTime": {
     "end_time": "2024-10-27T13:52:25.261178Z",
     "start_time": "2024-10-27T13:52:25.248063Z"
    }
   },
   "cell_type": "code",
   "source": "df.groupby('sex')['tip'].sum()",
   "id": "ba5cb73aff88ea5",
   "outputs": [
    {
     "data": {
      "text/plain": [
       "sex\n",
       "Female    246.51\n",
       "Male      485.07\n",
       "Name: tip, dtype: float64"
      ]
     },
     "execution_count": 245,
     "metadata": {},
     "output_type": "execute_result"
    }
   ],
   "execution_count": 245
  },
  {
   "metadata": {
    "ExecuteTime": {
     "end_time": "2024-10-27T13:52:25.394732Z",
     "start_time": "2024-10-27T13:52:25.384560Z"
    }
   },
   "cell_type": "code",
   "source": "df.groupby('sex')['tip'].mean()",
   "id": "8ab318ac4ba7c145",
   "outputs": [
    {
     "data": {
      "text/plain": [
       "sex\n",
       "Female    2.833448\n",
       "Male      3.089618\n",
       "Name: tip, dtype: float64"
      ]
     },
     "execution_count": 246,
     "metadata": {},
     "output_type": "execute_result"
    }
   ],
   "execution_count": 246
  },
  {
   "metadata": {
    "ExecuteTime": {
     "end_time": "2024-10-27T13:52:25.601224Z",
     "start_time": "2024-10-27T13:52:25.595239Z"
    }
   },
   "cell_type": "code",
   "source": "# Male Gender is Generous in giving Tips",
   "id": "4e0b3f86176c0515",
   "outputs": [],
   "execution_count": 247
  },
  {
   "cell_type": "markdown",
   "id": "984e3dbf",
   "metadata": {
    "id": "984e3dbf"
   },
   "source": [
    "### 4. According to the data, were there more customers for dinner or lunch?"
   ]
  },
  {
   "cell_type": "code",
   "id": "d5cabe95",
   "metadata": {
    "id": "d5cabe95",
    "ExecuteTime": {
     "end_time": "2024-10-27T13:52:25.791204Z",
     "start_time": "2024-10-27T13:52:25.786049Z"
    }
   },
   "source": "customer_count_per_time = df['time'].value_counts().reset_index()\n",
   "outputs": [],
   "execution_count": 248
  },
  {
   "metadata": {
    "ExecuteTime": {
     "end_time": "2024-10-27T13:52:25.960256Z",
     "start_time": "2024-10-27T13:52:25.955219Z"
    }
   },
   "cell_type": "code",
   "source": "customer_count_per_time.columns = ['time', 'customer_count']\n",
   "id": "b844348d96d7b18c",
   "outputs": [],
   "execution_count": 249
  },
  {
   "metadata": {
    "ExecuteTime": {
     "end_time": "2024-10-27T13:52:26.067475Z",
     "start_time": "2024-10-27T13:52:26.062279Z"
    }
   },
   "cell_type": "code",
   "source": "print(customer_count_per_time)\n",
   "id": "80d78dc09c982bb6",
   "outputs": [
    {
     "name": "stdout",
     "output_type": "stream",
     "text": [
      "     time  customer_count\n",
      "0  Dinner             176\n",
      "1   Lunch              68\n"
     ]
    }
   ],
   "execution_count": 250
  },
  {
   "metadata": {
    "ExecuteTime": {
     "end_time": "2024-10-27T13:52:26.175164Z",
     "start_time": "2024-10-27T13:52:26.167755Z"
    }
   },
   "cell_type": "code",
   "source": [
    "customer_count_per_time = df.groupby('time').size().reset_index(name='customer_count')\n",
    "print(customer_count_per_time)"
   ],
   "id": "37345f70d5908f7",
   "outputs": [
    {
     "name": "stdout",
     "output_type": "stream",
     "text": [
      "     time  customer_count\n",
      "0  Dinner             176\n",
      "1   Lunch              68\n"
     ]
    }
   ],
   "execution_count": 251
  },
  {
   "metadata": {
    "ExecuteTime": {
     "end_time": "2024-10-27T13:52:26.308607Z",
     "start_time": "2024-10-27T13:52:26.301293Z"
    }
   },
   "cell_type": "code",
   "source": "df.groupby('time')['size'].count()",
   "id": "3f3a85564f00874c",
   "outputs": [
    {
     "data": {
      "text/plain": [
       "time\n",
       "Dinner    176\n",
       "Lunch      68\n",
       "Name: size, dtype: int64"
      ]
     },
     "execution_count": 252,
     "metadata": {},
     "output_type": "execute_result"
    }
   ],
   "execution_count": 252
  },
  {
   "metadata": {
    "ExecuteTime": {
     "end_time": "2024-10-27T13:52:26.420033Z",
     "start_time": "2024-10-27T13:52:26.416406Z"
    }
   },
   "cell_type": "code",
   "source": "# According to the data for dinner there are more customers.\n",
   "id": "c49b546bb5a524eb",
   "outputs": [],
   "execution_count": 253
  },
  {
   "cell_type": "markdown",
   "id": "6cd773f0",
   "metadata": {
    "id": "6cd773f0"
   },
   "source": [
    "### 5. Based on the statistical summary, comment on the variable 'tip'"
   ]
  },
  {
   "cell_type": "code",
   "id": "6ba68900",
   "metadata": {
    "id": "6ba68900",
    "ExecuteTime": {
     "end_time": "2024-10-27T13:52:26.546119Z",
     "start_time": "2024-10-27T13:52:26.537842Z"
    }
   },
   "source": [
    "tip_summary = df['tip'].describe()\n",
    "tip_summary"
   ],
   "outputs": [
    {
     "data": {
      "text/plain": [
       "count    244.000000\n",
       "mean       2.998279\n",
       "std        1.383638\n",
       "min        1.000000\n",
       "25%        2.000000\n",
       "50%        2.900000\n",
       "75%        3.562500\n",
       "max       10.000000\n",
       "Name: tip, dtype: float64"
      ]
     },
     "execution_count": 254,
     "metadata": {},
     "output_type": "execute_result"
    }
   ],
   "execution_count": 254
  },
  {
   "metadata": {},
   "cell_type": "markdown",
   "source": [
    "Comments on the 'tip' Variable\n",
    "\n",
    "Central Tendency: \n",
    "The mean and median values provide insight into the average tipping behavior. If the mean is significantly higher than the median, it may indicate a few high tips skewing the average.\n",
    "\n",
    "Dispersion: \n",
    "The standard deviation gives an idea of how varied the tip amounts are. A high standard deviation suggests that the tips vary widely, while a low standard deviation indicates that most tips are close to the mean.\n",
    "\n",
    "Range: \n",
    "The minimum and maximum values reveal the spread of tips. If the range is large, it suggests that there are both very low and very high tips in the dataset.\n",
    "\n",
    "Percentiles: \n",
    "The 25th and 75th percentiles can indicate the interquartile range (IQR), which helps in understanding the distribution and identifying potential outliers.\n",
    "\n",
    "Skewness: \n",
    "If the distribution of tips is skewed (as inferred from the mean vs. median), it could suggest that a minority of customers are giving significantly higher tips."
   ],
   "id": "a1470171337f64f9"
  },
  {
   "metadata": {
    "ExecuteTime": {
     "end_time": "2024-10-27T13:52:26.766534Z",
     "start_time": "2024-10-27T13:52:26.762816Z"
    }
   },
   "cell_type": "code",
   "source": "# There are some outliers as we can see where max tip is very higher than that of the mean.\n",
   "id": "745515b6d871a5b0",
   "outputs": [],
   "execution_count": 255
  },
  {
   "cell_type": "markdown",
   "id": "d9c31198",
   "metadata": {
    "id": "d9c31198"
   },
   "source": [
    "### 6. Find the busiest day in terms of the orders?"
   ]
  },
  {
   "cell_type": "code",
   "id": "c3d6ee67",
   "metadata": {
    "id": "c3d6ee67",
    "ExecuteTime": {
     "end_time": "2024-10-27T13:52:26.994141Z",
     "start_time": "2024-10-27T13:52:26.984424Z"
    }
   },
   "source": [
    "df = pd.read_csv('tips.csv')\n",
    "\n",
    "df.day.mode()"
   ],
   "outputs": [
    {
     "data": {
      "text/plain": [
       "0    Sat\n",
       "Name: day, dtype: object"
      ]
     },
     "execution_count": 256,
     "metadata": {},
     "output_type": "execute_result"
    }
   ],
   "execution_count": 256
  },
  {
   "metadata": {
    "ExecuteTime": {
     "end_time": "2024-10-27T13:52:27.136018Z",
     "start_time": "2024-10-27T13:52:27.127276Z"
    }
   },
   "cell_type": "code",
   "source": "df['day'].mode()",
   "id": "ba8ee9cccb8d470c",
   "outputs": [
    {
     "data": {
      "text/plain": [
       "0    Sat\n",
       "Name: day, dtype: object"
      ]
     },
     "execution_count": 257,
     "metadata": {},
     "output_type": "execute_result"
    }
   ],
   "execution_count": 257
  },
  {
   "metadata": {
    "ExecuteTime": {
     "end_time": "2024-10-27T13:52:27.318478Z",
     "start_time": "2024-10-27T13:52:27.313534Z"
    }
   },
   "cell_type": "code",
   "source": [
    "order_counts = df['day'].value_counts().reset_index()\n",
    "order_counts.columns = ['day', 'order_count']\n"
   ],
   "id": "562e4a6b8a8f76ce",
   "outputs": [],
   "execution_count": 258
  },
  {
   "metadata": {
    "ExecuteTime": {
     "end_time": "2024-10-27T13:52:27.552505Z",
     "start_time": "2024-10-27T13:52:27.533588Z"
    }
   },
   "cell_type": "code",
   "source": [
    "busiest_day = order_counts.loc[order_counts['order_count'].idxmax()]\n",
    "print(\"Busiest Day:\", busiest_day['day'], \"with\", busiest_day['order_count'], \"orders\")\n"
   ],
   "id": "c849b07efcdcde0e",
   "outputs": [
    {
     "name": "stdout",
     "output_type": "stream",
     "text": [
      "Busiest Day: Sat with 87 orders\n"
     ]
    }
   ],
   "execution_count": 259
  },
  {
   "cell_type": "markdown",
   "id": "f01ba5cf",
   "metadata": {
    "id": "f01ba5cf"
   },
   "source": [
    "### 7. Is the variable 'total_bill' skewed? If yes, identify the type of skewness. Support your answer with a plot"
   ]
  },
  {
   "cell_type": "code",
   "id": "05a8b7c2",
   "metadata": {
    "id": "05a8b7c2",
    "ExecuteTime": {
     "end_time": "2024-10-27T13:52:27.955128Z",
     "start_time": "2024-10-27T13:52:27.735229Z"
    }
   },
   "source": [
    "df = pd.read_csv('tips.csv')\n",
    "\n",
    "# Check the skewness\n",
    "skewness = df['total_bill'].skew()\n",
    "\n",
    "# Plot the distribution\n",
    "plt.figure(figsize=(12, 6))\n",
    "sns.histplot(df['total_bill'], kde=True, bins=30)\n",
    "plt.title('Distribution of Total Bill')\n",
    "plt.xlabel('Total Bill')\n",
    "plt.ylabel('Frequency')\n",
    "plt.grid()\n",
    "plt.show()\n"
   ],
   "outputs": [
    {
     "data": {
      "text/plain": [
       "<Figure size 1200x600 with 1 Axes>"
      ],
      "image/png": "[encoded data removed]"
     },
     "metadata": {},
     "output_type": "display_data"
    }
   ],
   "execution_count": 260
  },
  {
   "metadata": {
    "ExecuteTime": {
     "end_time": "2024-10-27T13:52:28.332061Z",
     "start_time": "2024-10-27T13:52:28.049743Z"
    }
   },
   "cell_type": "code",
   "source": [
    "#From GL Faculty\n",
    "sns.displot(df['total_bill'], kde=True, bins=30)\n",
    "plt.title('Distribution of Total Bill')\n",
    "plt.xlabel('Total Bill')\n",
    "plt.ylabel('Density')\n",
    "plt.show()"
   ],
   "id": "af6b8c52cdc878f5",
   "outputs": [
    {
     "data": {
      "text/plain": [
       "<Figure size 500x500 with 1 Axes>"
      ],
      "image/png": "[encoded data removed]"
     },
     "metadata": {},
     "output_type": "display_data"
    }
   ],
   "execution_count": 261
  },
  {
   "metadata": {
    "ExecuteTime": {
     "end_time": "2024-10-27T13:52:28.390595Z",
     "start_time": "2024-10-27T13:52:28.385060Z"
    }
   },
   "cell_type": "code",
   "source": [
    "\n",
    "# Print skewness result\n",
    "if skewness > 0:\n",
    "    skew_type = 'right skewed'\n",
    "elif skewness < 0:\n",
    "    skew_type = 'left skewed'\n",
    "else:\n",
    "    skew_type = 'no skew'\n",
    "    \n",
    "print(f'The total_bill variable has a skewness of {skewness:.2f}, indicating it is {skew_type}.')"
   ],
   "id": "8c8597d2cc1b2591",
   "outputs": [
    {
     "name": "stdout",
     "output_type": "stream",
     "text": [
      "The total_bill variable has a skewness of 1.13, indicating it is right skewed.\n"
     ]
    }
   ],
   "execution_count": 262
  },
  {
   "metadata": {
    "ExecuteTime": {
     "end_time": "2024-10-27T13:52:28.480509Z",
     "start_time": "2024-10-27T13:52:28.474256Z"
    }
   },
   "cell_type": "code",
   "source": "df['total_bill'].skew()",
   "id": "ab5bf15cbba7302b",
   "outputs": [
    {
     "data": {
      "text/plain": [
       "1.1332130376158205"
      ]
     },
     "execution_count": 263,
     "metadata": {},
     "output_type": "execute_result"
    }
   ],
   "execution_count": 263
  },
  {
   "cell_type": "markdown",
   "id": "0fe8fa86",
   "metadata": {
    "id": "0fe8fa86"
   },
   "source": [
    "### 8. Is the tip amount dependent on the total bill? Visualize the relationship with a appropriate plot and metric and write your findings."
   ]
  },
  {
   "cell_type": "code",
   "id": "d45c2da4",
   "metadata": {
    "id": "d45c2da4",
    "ExecuteTime": {
     "end_time": "2024-10-27T13:52:28.724174Z",
     "start_time": "2024-10-27T13:52:28.565132Z"
    }
   },
   "source": [
    "df = pd.read_csv('tips.csv')\n",
    "\n",
    "# Plot the relationship\n",
    "plt.figure(figsize=(10, 6))\n",
    "sns.scatterplot(data=df, x='total_bill', y='tip')\n",
    "plt.title('Scatter Plot of Tip Amount vs. Total Bill')\n",
    "plt.xlabel('Total Bill')\n",
    "plt.ylabel('Tip Amount')\n",
    "plt.grid()\n",
    "plt.show()\n"
   ],
   "outputs": [
    {
     "data": {
      "text/plain": [
       "<Figure size 1000x600 with 1 Axes>"
      ],
      "image/png": "[encoded data removed]"
     },
     "metadata": {},
     "output_type": "display_data"
    }
   ],
   "execution_count": 264
  },
  {
   "metadata": {
    "ExecuteTime": {
     "end_time": "2024-10-27T13:52:28.784107Z",
     "start_time": "2024-10-27T13:52:28.778265Z"
    }
   },
   "cell_type": "code",
   "source": [
    "# Calculate the correlation\n",
    "correlation = df['total_bill'].corr(df['tip'])\n",
    "print(f'The correlation coefficient between total bill and tip amount is {correlation:.2f}.')"
   ],
   "id": "3749404df0f6db77",
   "outputs": [
    {
     "name": "stdout",
     "output_type": "stream",
     "text": [
      "The correlation coefficient between total bill and tip amount is 0.68.\n"
     ]
    }
   ],
   "execution_count": 265
  },
  {
   "metadata": {
    "ExecuteTime": {
     "end_time": "2024-10-27T13:52:28.888934Z",
     "start_time": "2024-10-27T13:52:28.878812Z"
    }
   },
   "cell_type": "code",
   "source": "df[['tip', 'total_bill']].corr()",
   "id": "c3d9ac39a4e8b21e",
   "outputs": [
    {
     "data": {
      "text/plain": [
       "                 tip  total_bill\n",
       "tip         1.000000    0.675734\n",
       "total_bill  0.675734    1.000000"
      ],
      "text/html": [
       "<div>\n",
       "<style scoped>\n",
       "    .dataframe tbody tr th:only-of-type {\n",
       "        vertical-align: middle;\n",
       "    }\n",
       "\n",
       "    .dataframe tbody tr th {\n",
       "        vertical-align: top;\n",
       "    }\n",
       "\n",
       "    .dataframe thead th {\n",
       "        text-align: right;\n",
       "    }\n",
       "</style>\n",
       "<table border=\"1\" class=\"dataframe\">\n",
       "  <thead>\n",
       "    <tr style=\"text-align: right;\">\n",
       "      <th></th>\n",
       "      <th>tip</th>\n",
       "      <th>total_bill</th>\n",
       "    </tr>\n",
       "  </thead>\n",
       "  <tbody>\n",
       "    <tr>\n",
       "      <th>tip</th>\n",
       "      <td>1.000000</td>\n",
       "      <td>0.675734</td>\n",
       "    </tr>\n",
       "    <tr>\n",
       "      <th>total_bill</th>\n",
       "      <td>0.675734</td>\n",
       "      <td>1.000000</td>\n",
       "    </tr>\n",
       "  </tbody>\n",
       "</table>\n",
       "</div>"
      ]
     },
     "execution_count": 266,
     "metadata": {},
     "output_type": "execute_result"
    }
   ],
   "execution_count": 266
  },
  {
   "metadata": {
    "ExecuteTime": {
     "end_time": "2024-10-27T13:52:29.128963Z",
     "start_time": "2024-10-27T13:52:28.996305Z"
    }
   },
   "cell_type": "code",
   "source": [
    "sns.scatterplot(x='total_bill', y='tip', data=df)\n",
    "plt.show()\n"
   ],
   "id": "b2557ad4f8f9915e",
   "outputs": [
    {
     "data": {
      "text/plain": [
       "<Figure size 640x480 with 1 Axes>"
      ],
      "image/png": "[encoded data removed]"
     },
     "metadata": {},
     "output_type": "display_data"
    }
   ],
   "execution_count": 267
  },
  {
   "metadata": {
    "ExecuteTime": {
     "end_time": "2024-10-27T13:52:29.303666Z",
     "start_time": "2024-10-27T13:52:29.299995Z"
    }
   },
   "cell_type": "code",
   "source": "# Yes the tip amount is dependent on the total bill. As we can see from the scatter plot as total bill increases, tip also increases. Tip has a moderate positive correlation with the total bill.¶\n",
   "id": "b885aa363e732c5c",
   "outputs": [],
   "execution_count": 268
  },
  {
   "cell_type": "markdown",
   "id": "2469e9cc",
   "metadata": {
    "id": "2469e9cc"
   },
   "source": [
    "### 9. What is the percentage of males and females in the dataset? and display it in the plot"
   ]
  },
  {
   "cell_type": "code",
   "id": "0dfd6414",
   "metadata": {
    "id": "0dfd6414",
    "ExecuteTime": {
     "end_time": "2024-10-27T13:52:29.325125Z",
     "start_time": "2024-10-27T13:52:29.317702Z"
    }
   },
   "source": [
    "df = pd.read_csv('tips.csv')\n",
    "\n",
    "# Calculate the percentage of males and females\n",
    "gender_counts = df['sex'].value_counts()\n",
    "gender_percentages = gender_counts / gender_counts.sum() * 100\n",
    "\n"
   ],
   "outputs": [],
   "execution_count": 269
  },
  {
   "metadata": {
    "ExecuteTime": {
     "end_time": "2024-10-27T13:52:29.437578Z",
     "start_time": "2024-10-27T13:52:29.370239Z"
    }
   },
   "cell_type": "code",
   "source": [
    "# Plot the pie chart\n",
    "plt.figure(figsize=(8, 6))\n",
    "plt.pie(gender_percentages, labels=gender_percentages.index, autopct='%2.2f%%', startangle=90, colors=['skyblue', 'salmon'])\n",
    "plt.title('Percentage of Males and Females in the Dataset')\n",
    "plt.axis('equal')  # Equal aspect ratio ensures that pie is drawn as a circle.\n",
    "plt.show()\n",
    "\n",
    "# Print the percentages\n",
    "print(gender_percentages)"
   ],
   "id": "16f8f023fb494126",
   "outputs": [
    {
     "data": {
      "text/plain": [
       "<Figure size 800x600 with 1 Axes>"
      ],
      "image/png": "[encoded data removed]"
     },
     "metadata": {},
     "output_type": "display_data"
    },
    {
     "name": "stdout",
     "output_type": "stream",
     "text": [
      "sex\n",
      "Male      64.344262\n",
      "Female    35.655738\n",
      "Name: count, dtype: float64\n"
     ]
    }
   ],
   "execution_count": 270
  },
  {
   "cell_type": "code",
   "id": "a266dd22",
   "metadata": {
    "id": "a266dd22",
    "ExecuteTime": {
     "end_time": "2024-10-27T13:52:29.591869Z",
     "start_time": "2024-10-27T13:52:29.522671Z"
    }
   },
   "source": [
    "df['sex'].value_counts(normalize=True).plot(kind='pie', autopct='%.2f%%')\n",
    "plt.show()"
   ],
   "outputs": [
    {
     "data": {
      "text/plain": [
       "<Figure size 640x480 with 1 Axes>"
      ],
      "image/png": "[encoded data removed]"
     },
     "metadata": {},
     "output_type": "display_data"
    }
   ],
   "execution_count": 271
  },
  {
   "metadata": {
    "id": "35e7f9bb"
   },
   "cell_type": "markdown",
   "source": "### 10. Compute the gender-wise count based on smoking habits and display it in the plot",
   "id": "35e7f9bb"
  },
  {
   "metadata": {
    "ExecuteTime": {
     "end_time": "2024-10-27T13:52:29.649167Z",
     "start_time": "2024-10-27T13:52:29.640005Z"
    }
   },
   "cell_type": "code",
   "source": [
    "df = pd.read_csv('tips.csv')\n",
    "\n",
    "# Group by 'sex' and 'smoker' and count the occurrences\n",
    "gender_smoker_count = df.groupby(['sex', 'smoker']).size().reset_index(name='count')\n"
   ],
   "id": "a1ea266fe616b1cf",
   "outputs": [],
   "execution_count": 272
  },
  {
   "metadata": {
    "ExecuteTime": {
     "end_time": "2024-10-27T13:52:29.862890Z",
     "start_time": "2024-10-27T13:52:29.692142Z"
    }
   },
   "cell_type": "code",
   "source": [
    "# Create a bar plot\n",
    "plt.figure(figsize=(8, 6))\n",
    "sns.barplot(data=gender_smoker_count, x='sex', y='count', hue='smoker')\n",
    "plt.title('Gender-wise Count Based on Smoking Habits')\n",
    "plt.xlabel('Gender')\n",
    "plt.ylabel('Count')\n",
    "plt.legend(title='Smoker', labels=['Non-smoker', 'Smoker'])\n",
    "plt.show()"
   ],
   "id": "35b84ec7c1c4d149",
   "outputs": [
    {
     "data": {
      "text/plain": [
       "<Figure size 800x600 with 1 Axes>"
      ],
      "image/png": "[encoded data removed]"
     },
     "metadata": {},
     "output_type": "display_data"
    }
   ],
   "execution_count": 273
  },
  {
   "metadata": {
    "ExecuteTime": {
     "end_time": "2024-10-27T13:52:29.948538Z",
     "start_time": "2024-10-27T13:52:29.922368Z"
    }
   },
   "cell_type": "code",
   "source": "pd.crosstab(df['sex'], df['smoker'])",
   "id": "9f52e9cf82c4e10b",
   "outputs": [
    {
     "data": {
      "text/plain": [
       "smoker  No  Yes\n",
       "sex            \n",
       "Female  54   33\n",
       "Male    97   60"
      ],
      "text/html": [
       "<div>\n",
       "<style scoped>\n",
       "    .dataframe tbody tr th:only-of-type {\n",
       "        vertical-align: middle;\n",
       "    }\n",
       "\n",
       "    .dataframe tbody tr th {\n",
       "        vertical-align: top;\n",
       "    }\n",
       "\n",
       "    .dataframe thead th {\n",
       "        text-align: right;\n",
       "    }\n",
       "</style>\n",
       "<table border=\"1\" class=\"dataframe\">\n",
       "  <thead>\n",
       "    <tr style=\"text-align: right;\">\n",
       "      <th>smoker</th>\n",
       "      <th>No</th>\n",
       "      <th>Yes</th>\n",
       "    </tr>\n",
       "    <tr>\n",
       "      <th>sex</th>\n",
       "      <th></th>\n",
       "      <th></th>\n",
       "    </tr>\n",
       "  </thead>\n",
       "  <tbody>\n",
       "    <tr>\n",
       "      <th>Female</th>\n",
       "      <td>54</td>\n",
       "      <td>33</td>\n",
       "    </tr>\n",
       "    <tr>\n",
       "      <th>Male</th>\n",
       "      <td>97</td>\n",
       "      <td>60</td>\n",
       "    </tr>\n",
       "  </tbody>\n",
       "</table>\n",
       "</div>"
      ]
     },
     "execution_count": 274,
     "metadata": {},
     "output_type": "execute_result"
    }
   ],
   "execution_count": 274
  },
  {
   "metadata": {
    "ExecuteTime": {
     "end_time": "2024-10-27T13:52:30.041824Z",
     "start_time": "2024-10-27T13:52:30.031140Z"
    }
   },
   "cell_type": "code",
   "source": "df.groupby('sex')['smoker'].value_counts()",
   "id": "38c0cd0b37570c76",
   "outputs": [
    {
     "data": {
      "text/plain": [
       "sex     smoker\n",
       "Female  No        54\n",
       "        Yes       33\n",
       "Male    No        97\n",
       "        Yes       60\n",
       "Name: count, dtype: int64"
      ]
     },
     "execution_count": 275,
     "metadata": {},
     "output_type": "execute_result"
    }
   ],
   "execution_count": 275
  },
  {
   "metadata": {
    "ExecuteTime": {
     "end_time": "2024-10-27T13:52:30.256856Z",
     "start_time": "2024-10-27T13:52:30.147641Z"
    }
   },
   "cell_type": "code",
   "source": [
    "pd.crosstab(df['smoker'], df['sex']).plot(kind='bar')\n",
    "plt.show()"
   ],
   "id": "c5677d206ad7c762",
   "outputs": [
    {
     "data": {
      "text/plain": [
       "<Figure size 640x480 with 1 Axes>"
      ],
      "image/png": "[encoded data removed]"
     },
     "metadata": {},
     "output_type": "display_data"
    }
   ],
   "execution_count": 276
  },
  {
   "metadata": {
    "ExecuteTime": {
     "end_time": "2024-10-27T13:52:30.386416Z",
     "start_time": "2024-10-27T13:52:30.383019Z"
    }
   },
   "cell_type": "code",
   "source": "",
   "id": "de658f68c8dd15a4",
   "outputs": [],
   "execution_count": null
  },
  {
   "cell_type": "markdown",
   "id": "1f8ba505",
   "metadata": {
    "id": "1f8ba505"
   },
   "source": [
    "### 11. Compute the average tip amount given for different days and display it in the plot."
   ]
  },
  {
   "cell_type": "code",
   "id": "13ae2148",
   "metadata": {
    "id": "13ae2148",
    "ExecuteTime": {
     "end_time": "2024-10-27T13:52:30.559016Z",
     "start_time": "2024-10-27T13:52:30.550908Z"
    }
   },
   "source": [
    "# Load the data\n",
    "tips_df = pd.read_csv('tips.csv')\n",
    "\n",
    "# Calculate average tip amount by day\n",
    "average_tips_by_day = tips_df.groupby('day')['tip'].mean()\n"
   ],
   "outputs": [],
   "execution_count": 277
  },
  {
   "metadata": {
    "ExecuteTime": {
     "end_time": "2024-10-27T13:52:30.814699Z",
     "start_time": "2024-10-27T13:52:30.641496Z"
    }
   },
   "cell_type": "code",
   "source": [
    "# Plot the data\n",
    "plt.figure(figsize=(10, 6))\n",
    "sns.barplot(x=average_tips_by_day.index, y=average_tips_by_day.values, palette='viridis')\n",
    "plt.title('Average Tip Amount by Day')\n",
    "plt.xlabel('Day of the Week')\n",
    "plt.ylabel('Average Tip Amount')\n",
    "plt.grid(axis='y')\n",
    "plt.show()"
   ],
   "id": "7227fa6d73f27a7d",
   "outputs": [
    {
     "data": {
      "text/plain": [
       "<Figure size 1000x600 with 1 Axes>"
      ],
      "image/png": "[encoded data removed]"
     },
     "metadata": {},
     "output_type": "display_data"
    }
   ],
   "execution_count": 278
  },
  {
   "metadata": {
    "ExecuteTime": {
     "end_time": "2024-10-27T13:52:30.882090Z",
     "start_time": "2024-10-27T13:52:30.873572Z"
    }
   },
   "cell_type": "code",
   "source": "df.groupby('day')['tip'].mean()",
   "id": "d447481718e80c09",
   "outputs": [
    {
     "data": {
      "text/plain": [
       "day\n",
       "Fri     2.734737\n",
       "Sat     2.993103\n",
       "Sun     3.255132\n",
       "Thur    2.771452\n",
       "Name: tip, dtype: float64"
      ]
     },
     "execution_count": 279,
     "metadata": {},
     "output_type": "execute_result"
    }
   ],
   "execution_count": 279
  },
  {
   "metadata": {
    "ExecuteTime": {
     "end_time": "2024-10-27T13:52:31.171010Z",
     "start_time": "2024-10-27T13:52:30.966742Z"
    }
   },
   "cell_type": "code",
   "source": [
    "sns.barplot(x='day', y='tip', data=df, hue='day')\n",
    "plt.show()\n"
   ],
   "id": "65664f0c342efce2",
   "outputs": [
    {
     "data": {
      "text/plain": [
       "<Figure size 640x480 with 1 Axes>"
      ],
      "image/png": "[encoded data removed]"
     },
     "metadata": {},
     "output_type": "display_data"
    }
   ],
   "execution_count": 280
  },
  {
   "cell_type": "markdown",
   "id": "873f97a5",
   "metadata": {
    "id": "873f97a5"
   },
   "source": [
    "### 12. Is the average bill amount dependent on the size of the group? Visualize the relationship using appropriate plot and write your findings."
   ]
  },
  {
   "cell_type": "code",
   "id": "07f676ad",
   "metadata": {
    "id": "07f676ad",
    "ExecuteTime": {
     "end_time": "2024-10-27T13:52:31.218590Z",
     "start_time": "2024-10-27T13:52:31.213411Z"
    }
   },
   "source": "avg_bill_by_size = df.groupby('size')['total_bill'].mean().reset_index()\n",
   "outputs": [],
   "execution_count": 281
  },
  {
   "metadata": {
    "ExecuteTime": {
     "end_time": "2024-10-27T13:52:31.537357Z",
     "start_time": "2024-10-27T13:52:31.301611Z"
    }
   },
   "cell_type": "code",
   "source": [
    "# Create a scatter plot with a regression line\n",
    "plt.figure(figsize=(10, 6))\n",
    "sns.regplot(data=avg_bill_by_size, x='size', y='total_bill', marker='o', color='blue')\n",
    "plt.title('Average Bill Amount vs. Group Size')\n",
    "plt.xlabel('Group Size')\n",
    "plt.ylabel('Average Bill Amount')\n",
    "plt.xticks(avg_bill_by_size['size'])  # Set x-ticks to group sizes\n",
    "plt.grid(True)\n",
    "plt.show()"
   ],
   "id": "5613bf423f4a78b3",
   "outputs": [
    {
     "data": {
      "text/plain": [
       "<Figure size 1000x600 with 1 Axes>"
      ],
      "image/png": "[encoded data removed]"
     },
     "metadata": {},
     "output_type": "display_data"
    }
   ],
   "execution_count": 282
  },
  {
   "metadata": {},
   "cell_type": "markdown",
   "source": [
    "Findings\n",
    "01. Trend:\n",
    "    If the scatter plot shows an upward trend, it suggests that as the group size increases, the average bill amount also tends to increase. This could be due to larger groups ordering more food and drinks.\n",
    "02. Strength of Relationship:\n",
    "    The slope of the regression line indicates the strength of the relationship. A steep slope would imply a strong positive correlation between group size and average bill amount.\n",
    "03. Variability:\n",
    "    If the data points are widely spread around the regression line, it indicates variability in the bill amounts for different group sizes."
   ],
   "id": "640a3995f35349fb"
  },
  {
   "metadata": {
    "ExecuteTime": {
     "end_time": "2024-10-27T13:52:31.707350Z",
     "start_time": "2024-10-27T13:52:31.590829Z"
    }
   },
   "cell_type": "code",
   "source": [
    "df.groupby('size')['total_bill'].mean().plot(kind='bar')\n",
    "plt.show()"
   ],
   "id": "3cd71939718b5138",
   "outputs": [
    {
     "data": {
      "text/plain": [
       "<Figure size 640x480 with 1 Axes>"
      ],
      "image/png": "[encoded data removed]"
     },
     "metadata": {},
     "output_type": "display_data"
    }
   ],
   "execution_count": 283
  },
  {
   "metadata": {
    "ExecuteTime": {
     "end_time": "2024-10-27T13:52:31.758701Z",
     "start_time": "2024-10-27T13:52:31.754452Z"
    }
   },
   "cell_type": "code",
   "source": "# Yes the average bill amount is dependent on the size of the group as we can analyse from the above graph with increase in the size of the group there is increase in the average bill paid.\n",
   "id": "b7eb7c57bcb8f800",
   "outputs": [],
   "execution_count": 284
  },
  {
   "cell_type": "markdown",
   "id": "566ae9fe",
   "metadata": {
    "id": "566ae9fe"
   },
   "source": [
    "### 13. Plot a horizontal boxplot to compare the bill amount based on gender"
   ]
  },
  {
   "cell_type": "code",
   "id": "5957b3aa",
   "metadata": {
    "id": "5957b3aa",
    "ExecuteTime": {
     "end_time": "2024-10-27T13:52:31.956477Z",
     "start_time": "2024-10-27T13:52:31.807736Z"
    }
   },
   "source": [
    "df = pd.read_csv('tips.csv')\n",
    "\n",
    "# Create a horizontal boxplot\n",
    "plt.figure(figsize=(10, 6))\n",
    "sns.boxplot(data=df, x='total_bill', y='sex', palette='Set2')\n",
    "plt.title('Comparison of Bill Amounts Based on Gender')\n",
    "plt.xlabel('Total Bill Amount')\n",
    "plt.ylabel('Gender')\n",
    "plt.grid(True)\n",
    "plt.show()\n"
   ],
   "outputs": [
    {
     "data": {
      "text/plain": [
       "<Figure size 1000x600 with 1 Axes>"
      ],
      "image/png": "[encoded data removed]"
     },
     "metadata": {},
     "output_type": "display_data"
    }
   ],
   "execution_count": 285
  },
  {
   "metadata": {
    "ExecuteTime": {
     "end_time": "2024-10-27T13:52:32.133059Z",
     "start_time": "2024-10-27T13:52:32.004249Z"
    }
   },
   "cell_type": "code",
   "source": [
    "sns.boxplot(y = 'sex', x = 'total_bill', data=df, hue='sex')\n",
    "plt.show()"
   ],
   "id": "76d0b3b92f97cf9",
   "outputs": [
    {
     "data": {
      "text/plain": [
       "<Figure size 640x480 with 1 Axes>"
      ],
      "image/png": "[encoded data removed]"
     },
     "metadata": {},
     "output_type": "display_data"
    }
   ],
   "execution_count": 286
  },
  {
   "cell_type": "markdown",
   "id": "5bc13310",
   "metadata": {
    "id": "5bc13310"
   },
   "source": [
    "### 14. Find the maximum bill amount for lunch and dinner on Saturday and Sunday"
   ]
  },
  {
   "cell_type": "code",
   "id": "06f56d22",
   "metadata": {
    "id": "06f56d22",
    "ExecuteTime": {
     "end_time": "2024-10-27T13:52:32.195585Z",
     "start_time": "2024-10-27T13:52:32.181362Z"
    }
   },
   "source": [
    "df = pd.read_csv('tips.csv')\n",
    "\n",
    "# Filter for Saturday and Sunday\n",
    "weekend_data = df[df['day'].isin(['Sat', 'Sun'])]\n",
    "\n",
    "# Group by 'day' and 'time' and find the maximum bill amount\n",
    "max_bill = weekend_data.groupby(['day', 'time'])['total_bill'].max().reset_index()\n",
    "\n",
    "# Display the result\n",
    "print(max_bill)"
   ],
   "outputs": [
    {
     "name": "stdout",
     "output_type": "stream",
     "text": [
      "   day    time  total_bill\n",
      "0  Sat  Dinner       50.81\n",
      "1  Sun  Dinner       48.17\n"
     ]
    }
   ],
   "execution_count": 287
  },
  {
   "metadata": {
    "ExecuteTime": {
     "end_time": "2024-10-27T13:52:32.282807Z",
     "start_time": "2024-10-27T13:52:32.269654Z"
    }
   },
   "cell_type": "code",
   "source": "df.groupby(['day', 'time'])['total_bill'].max()",
   "id": "5bb2bb5907c53865",
   "outputs": [
    {
     "data": {
      "text/plain": [
       "day   time  \n",
       "Fri   Dinner    40.17\n",
       "      Lunch     16.27\n",
       "Sat   Dinner    50.81\n",
       "Sun   Dinner    48.17\n",
       "Thur  Dinner    18.78\n",
       "      Lunch     43.11\n",
       "Name: total_bill, dtype: float64"
      ]
     },
     "execution_count": 288,
     "metadata": {},
     "output_type": "execute_result"
    }
   ],
   "execution_count": 288
  },
  {
   "metadata": {
    "ExecuteTime": {
     "end_time": "2024-10-27T13:52:32.381810Z",
     "start_time": "2024-10-27T13:52:32.371811Z"
    }
   },
   "cell_type": "code",
   "source": "df.groupby(['time', 'day'])['total_bill'].max()\n",
   "id": "2f36a9513a28aad7",
   "outputs": [
    {
     "data": {
      "text/plain": [
       "time    day \n",
       "Dinner  Fri     40.17\n",
       "        Sat     50.81\n",
       "        Sun     48.17\n",
       "        Thur    18.78\n",
       "Lunch   Fri     16.27\n",
       "        Thur    43.11\n",
       "Name: total_bill, dtype: float64"
      ]
     },
     "execution_count": 289,
     "metadata": {},
     "output_type": "execute_result"
    }
   ],
   "execution_count": 289
  },
  {
   "metadata": {
    "ExecuteTime": {
     "end_time": "2024-10-27T13:52:32.548177Z",
     "start_time": "2024-10-27T13:52:32.533314Z"
    }
   },
   "cell_type": "code",
   "source": [
    "df_day = df[(df['day'] == 'Sat') | (df['day'] == 'Sun')]\n",
    "df_day.groupby('time')['total_bill'].max()"
   ],
   "id": "bc79d269f489f6ae",
   "outputs": [
    {
     "data": {
      "text/plain": [
       "time\n",
       "Dinner    50.81\n",
       "Name: total_bill, dtype: float64"
      ]
     },
     "execution_count": 290,
     "metadata": {},
     "output_type": "execute_result"
    }
   ],
   "execution_count": 290
  },
  {
   "cell_type": "markdown",
   "id": "aa484774",
   "metadata": {
    "id": "aa484774"
   },
   "source": [
    "### 15. Compute the percentage of missing values in the dataset."
   ]
  },
  {
   "cell_type": "code",
   "id": "5c9bf12e",
   "metadata": {
    "id": "5c9bf12e",
    "ExecuteTime": {
     "end_time": "2024-10-27T13:52:32.882010Z",
     "start_time": "2024-10-27T13:52:32.875640Z"
    }
   },
   "source": "missing_percentage = df.isnull().mean() * 100\n",
   "outputs": [],
   "execution_count": 291
  },
  {
   "metadata": {
    "ExecuteTime": {
     "end_time": "2024-10-27T13:52:33.012239Z",
     "start_time": "2024-10-27T13:52:33.007071Z"
    }
   },
   "cell_type": "code",
   "source": "print(missing_percentage[missing_percentage > 0])  # Only show columns with missing values\n",
   "id": "fa6cdd243be5d7a0",
   "outputs": [
    {
     "name": "stdout",
     "output_type": "stream",
     "text": [
      "Series([], dtype: float64)\n"
     ]
    }
   ],
   "execution_count": 292
  },
  {
   "metadata": {
    "ExecuteTime": {
     "end_time": "2024-10-27T13:52:33.282378Z",
     "start_time": "2024-10-27T13:52:33.274236Z"
    }
   },
   "cell_type": "code",
   "source": "df.isnull().sum()/len(df)*100",
   "id": "de9cc4b5d53c062d",
   "outputs": [
    {
     "data": {
      "text/plain": [
       "total_bill    0.0\n",
       "tip           0.0\n",
       "sex           0.0\n",
       "smoker        0.0\n",
       "day           0.0\n",
       "time          0.0\n",
       "size          0.0\n",
       "dtype: float64"
      ]
     },
     "execution_count": 293,
     "metadata": {},
     "output_type": "execute_result"
    }
   ],
   "execution_count": 293
  },
  {
   "metadata": {
    "ExecuteTime": {
     "end_time": "2024-10-27T13:52:33.386052Z",
     "start_time": "2024-10-27T13:52:33.382637Z"
    }
   },
   "cell_type": "code",
   "source": "#There are no missing values in the Data Set",
   "id": "6cd55116281f7723",
   "outputs": [],
   "execution_count": 294
  },
  {
   "cell_type": "markdown",
   "id": "abfaf333",
   "metadata": {
    "id": "abfaf333"
   },
   "source": [
    "### 16. Is there are any duplicate records in the dataset? If yes compute the count of the duplicate records and drop them."
   ]
  },
  {
   "cell_type": "code",
   "id": "751f4641",
   "metadata": {
    "id": "751f4641",
    "ExecuteTime": {
     "end_time": "2024-10-27T13:52:33.475579Z",
     "start_time": "2024-10-27T13:52:33.466391Z"
    }
   },
   "source": "len(df[df.duplicated()])",
   "outputs": [
    {
     "data": {
      "text/plain": [
       "1"
      ]
     },
     "execution_count": 295,
     "metadata": {},
     "output_type": "execute_result"
    }
   ],
   "execution_count": 295
  },
  {
   "metadata": {
    "ExecuteTime": {
     "end_time": "2024-10-27T13:52:33.641268Z",
     "start_time": "2024-10-27T13:52:33.637597Z"
    }
   },
   "cell_type": "code",
   "source": "# Yes, there is one duplicated record, let us drop them.\n",
   "id": "8f924d5f7be29597",
   "outputs": [],
   "execution_count": 296
  },
  {
   "metadata": {
    "ExecuteTime": {
     "end_time": "2024-10-27T13:52:33.735376Z",
     "start_time": "2024-10-27T13:52:33.727725Z"
    }
   },
   "cell_type": "code",
   "source": "df_new=df.drop_duplicates(inplace = False)",
   "id": "2c2cbcda24fa9e63",
   "outputs": [],
   "execution_count": 297
  },
  {
   "metadata": {
    "ExecuteTime": {
     "end_time": "2024-10-27T13:52:33.839704Z",
     "start_time": "2024-10-27T13:52:33.828539Z"
    }
   },
   "cell_type": "code",
   "source": "df_new.head()",
   "id": "d4321b023d81357e",
   "outputs": [
    {
     "data": {
      "text/plain": [
       "   total_bill   tip     sex smoker  day    time  size\n",
       "0       16.99  1.01  Female     No  Sun  Dinner     2\n",
       "1       10.34  1.66    Male     No  Sun  Dinner     3\n",
       "2       21.01  3.50    Male     No  Sun  Dinner     3\n",
       "3       23.68  3.31    Male     No  Sun  Dinner     2\n",
       "4       24.59  3.61  Female     No  Sun  Dinner     4"
      ],
      "text/html": [
       "<div>\n",
       "<style scoped>\n",
       "    .dataframe tbody tr th:only-of-type {\n",
       "        vertical-align: middle;\n",
       "    }\n",
       "\n",
       "    .dataframe tbody tr th {\n",
       "        vertical-align: top;\n",
       "    }\n",
       "\n",
       "    .dataframe thead th {\n",
       "        text-align: right;\n",
       "    }\n",
       "</style>\n",
       "<table border=\"1\" class=\"dataframe\">\n",
       "  <thead>\n",
       "    <tr style=\"text-align: right;\">\n",
       "      <th></th>\n",
       "      <th>total_bill</th>\n",
       "      <th>tip</th>\n",
       "      <th>sex</th>\n",
       "      <th>smoker</th>\n",
       "      <th>day</th>\n",
       "      <th>time</th>\n",
       "      <th>size</th>\n",
       "    </tr>\n",
       "  </thead>\n",
       "  <tbody>\n",
       "    <tr>\n",
       "      <th>0</th>\n",
       "      <td>16.99</td>\n",
       "      <td>1.01</td>\n",
       "      <td>Female</td>\n",
       "      <td>No</td>\n",
       "      <td>Sun</td>\n",
       "      <td>Dinner</td>\n",
       "      <td>2</td>\n",
       "    </tr>\n",
       "    <tr>\n",
       "      <th>1</th>\n",
       "      <td>10.34</td>\n",
       "      <td>1.66</td>\n",
       "      <td>Male</td>\n",
       "      <td>No</td>\n",
       "      <td>Sun</td>\n",
       "      <td>Dinner</td>\n",
       "      <td>3</td>\n",
       "    </tr>\n",
       "    <tr>\n",
       "      <th>2</th>\n",
       "      <td>21.01</td>\n",
       "      <td>3.50</td>\n",
       "      <td>Male</td>\n",
       "      <td>No</td>\n",
       "      <td>Sun</td>\n",
       "      <td>Dinner</td>\n",
       "      <td>3</td>\n",
       "    </tr>\n",
       "    <tr>\n",
       "      <th>3</th>\n",
       "      <td>23.68</td>\n",
       "      <td>3.31</td>\n",
       "      <td>Male</td>\n",
       "      <td>No</td>\n",
       "      <td>Sun</td>\n",
       "      <td>Dinner</td>\n",
       "      <td>2</td>\n",
       "    </tr>\n",
       "    <tr>\n",
       "      <th>4</th>\n",
       "      <td>24.59</td>\n",
       "      <td>3.61</td>\n",
       "      <td>Female</td>\n",
       "      <td>No</td>\n",
       "      <td>Sun</td>\n",
       "      <td>Dinner</td>\n",
       "      <td>4</td>\n",
       "    </tr>\n",
       "  </tbody>\n",
       "</table>\n",
       "</div>"
      ]
     },
     "execution_count": 298,
     "metadata": {},
     "output_type": "execute_result"
    }
   ],
   "execution_count": 298
  },
  {
   "metadata": {
    "ExecuteTime": {
     "end_time": "2024-10-27T13:52:33.910028Z",
     "start_time": "2024-10-27T13:52:33.903443Z"
    }
   },
   "cell_type": "code",
   "source": "df_new.drop_duplicates(inplace=True)",
   "id": "91bcfdf5b8757abf",
   "outputs": [],
   "execution_count": 299
  },
  {
   "metadata": {
    "ExecuteTime": {
     "end_time": "2024-10-27T13:52:33.988639Z",
     "start_time": "2024-10-27T13:52:33.980880Z"
    }
   },
   "cell_type": "code",
   "source": "len(df_new[df_new.duplicated()])\n",
   "id": "2f6ab04f0780a767",
   "outputs": [
    {
     "data": {
      "text/plain": [
       "0"
      ]
     },
     "execution_count": 300,
     "metadata": {},
     "output_type": "execute_result"
    }
   ],
   "execution_count": 300
  },
  {
   "cell_type": "markdown",
   "id": "4aa4a763",
   "metadata": {
    "id": "4aa4a763"
   },
   "source": [
    "### 17. Is there are any outliers present in the column 'total_bill'? If yes treat them with transformation approach, and plot a boxplot before and after the treatment"
   ]
  },
  {
   "cell_type": "code",
   "id": "c6885f21",
   "metadata": {
    "id": "c6885f21",
    "ExecuteTime": {
     "end_time": "2024-10-27T13:52:34.158562Z",
     "start_time": "2024-10-27T13:52:34.151653Z"
    }
   },
   "source": "df = pd.read_csv('tips.csv')\n",
   "outputs": [],
   "execution_count": 301
  },
  {
   "metadata": {
    "ExecuteTime": {
     "end_time": "2024-10-27T13:52:34.243333Z",
     "start_time": "2024-10-27T13:52:34.236456Z"
    }
   },
   "cell_type": "code",
   "source": [
    "# Calculate Q1 (25th percentile) and Q3 (75th percentile)\n",
    "Q1 = df['total_bill'].quantile(0.25)\n",
    "Q3 = df['total_bill'].quantile(0.75)\n",
    "IQR = Q3 - Q1\n",
    "\n",
    "# Determine the bounds for outliers\n",
    "lower_bound = Q1 - 1.5 * IQR\n",
    "upper_bound = Q3 + 1.5 * IQR\n"
   ],
   "id": "b0a598a35573c6d4",
   "outputs": [],
   "execution_count": 302
  },
  {
   "metadata": {
    "ExecuteTime": {
     "end_time": "2024-10-27T13:52:34.296186Z",
     "start_time": "2024-10-27T13:52:34.290038Z"
    }
   },
   "cell_type": "code",
   "source": [
    "# Identify outliers\n",
    "outliers = df[(df['total_bill'] < lower_bound) | (df['total_bill'] > upper_bound)]\n",
    "\n",
    "print(\"Number of outliers:\", outliers.shape[0])"
   ],
   "id": "1b395afdf857c4c7",
   "outputs": [
    {
     "name": "stdout",
     "output_type": "stream",
     "text": [
      "Number of outliers: 9\n"
     ]
    }
   ],
   "execution_count": 303
  },
  {
   "metadata": {
    "ExecuteTime": {
     "end_time": "2024-10-27T13:52:34.456383Z",
     "start_time": "2024-10-27T13:52:34.368504Z"
    }
   },
   "cell_type": "code",
   "source": [
    "sns.boxplot(df['total_bill'])\n",
    "plt.show()"
   ],
   "id": "9a9f743ad8c6526d",
   "outputs": [
    {
     "data": {
      "text/plain": [
       "<Figure size 640x480 with 1 Axes>"
      ],
      "image/png": "[encoded data removed]"
     },
     "metadata": {},
     "output_type": "display_data"
    }
   ],
   "execution_count": 304
  },
  {
   "metadata": {
    "ExecuteTime": {
     "end_time": "2024-10-27T13:52:34.593488Z",
     "start_time": "2024-10-27T13:52:34.501858Z"
    }
   },
   "cell_type": "code",
   "source": [
    "## treating outliers using log transformation\n",
    "df['total_bill_trans'] = np.log(df['total_bill'])\n",
    "\n",
    "## boxplot after transformation\n",
    "sns.boxplot(df['total_bill_trans'])\n",
    "plt.show()"
   ],
   "id": "5fd49c11e6cc1a81",
   "outputs": [
    {
     "data": {
      "text/plain": [
       "<Figure size 640x480 with 1 Axes>"
      ],
      "image/png": "[encoded data removed]"
     },
     "metadata": {},
     "output_type": "display_data"
    }
   ],
   "execution_count": 305
  },
  {
   "cell_type": "markdown",
   "id": "2e8bfa6f",
   "metadata": {
    "id": "2e8bfa6f"
   },
   "source": [
    "### 18. Is there are any outliers present in the column 'tip'? If yes remove them using IQR techinque."
   ]
  },
  {
   "cell_type": "code",
   "id": "29d3f9e0",
   "metadata": {
    "id": "29d3f9e0",
    "ExecuteTime": {
     "end_time": "2024-10-27T13:52:34.728915Z",
     "start_time": "2024-10-27T13:52:34.641925Z"
    }
   },
   "source": [
    "sns.boxplot(df['tip'])\n",
    "plt.show()"
   ],
   "outputs": [
    {
     "data": {
      "text/plain": [
       "<Figure size 640x480 with 1 Axes>"
      ],
      "image/png": "[encoded data removed]"
     },
     "metadata": {},
     "output_type": "display_data"
    }
   ],
   "execution_count": 306
  },
  {
   "metadata": {
    "ExecuteTime": {
     "end_time": "2024-10-27T13:52:34.788905Z",
     "start_time": "2024-10-27T13:52:34.782800Z"
    }
   },
   "cell_type": "code",
   "source": [
    "# Using IQR method\n",
    "Q1 = df['tip'].quantile(0.25)\n",
    "Q3 = df['tip'].quantile(0.75)\n",
    "IQR = Q3-Q1\n",
    "\n",
    "lower_whisker  = Q1-(1.5*IQR)\n",
    "upper_whisker  = Q3+(1.5*IQR)"
   ],
   "id": "6d43d0992ace3e95",
   "outputs": [],
   "execution_count": 307
  },
  {
   "metadata": {
    "ExecuteTime": {
     "end_time": "2024-10-27T13:52:34.840833Z",
     "start_time": "2024-10-27T13:52:34.832898Z"
    }
   },
   "cell_type": "code",
   "source": "df_out = df.loc[(df['tip'] < upper_whisker) & (df['tip'] > lower_whisker)] # rows without outliers",
   "id": "b1d8e2be1053992",
   "outputs": [],
   "execution_count": 308
  },
  {
   "metadata": {
    "ExecuteTime": {
     "end_time": "2024-10-27T13:52:34.974811Z",
     "start_time": "2024-10-27T13:52:34.890252Z"
    }
   },
   "cell_type": "code",
   "source": [
    "sns.boxplot(df_out['tip'])\n",
    "plt.show()"
   ],
   "id": "8fc8a4c1ea3ea640",
   "outputs": [
    {
     "data": {
      "text/plain": [
       "<Figure size 640x480 with 1 Axes>"
      ],
      "image/png": "[encoded data removed]"
     },
     "metadata": {},
     "output_type": "display_data"
    }
   ],
   "execution_count": 309
  },
  {
   "cell_type": "markdown",
   "id": "10d91bd7",
   "metadata": {
    "id": "10d91bd7"
   },
   "source": [
    "### 19. Encode the categorical columns in the dataset and print the random 5 samples from the dataframe."
   ]
  },
  {
   "cell_type": "code",
   "id": "05ad1918",
   "metadata": {
    "id": "05ad1918",
    "ExecuteTime": {
     "end_time": "2024-10-27T13:52:35.039550Z",
     "start_time": "2024-10-27T13:52:35.018292Z"
    }
   },
   "source": [
    "df = pd.get_dummies(df,drop_first=True)\n",
    "df.sample(5)"
   ],
   "outputs": [
    {
     "data": {
      "text/plain": [
       "     total_bill   tip  size  total_bill_trans  sex_Male  smoker_Yes  day_Sat  \\\n",
       "72        26.86  3.14     2          3.290638     False        True     True   \n",
       "78        22.76  3.00     2          3.125005      True       False    False   \n",
       "155       29.85  5.14     5          3.396185     False       False    False   \n",
       "3         23.68  3.31     2          3.164631      True       False    False   \n",
       "167       31.71  4.50     4          3.456632      True       False    False   \n",
       "\n",
       "     day_Sun  day_Thur  time_Lunch  \n",
       "72     False     False       False  \n",
       "78     False      True        True  \n",
       "155     True     False       False  \n",
       "3       True     False       False  \n",
       "167     True     False       False  "
      ],
      "text/html": [
       "<div>\n",
       "<style scoped>\n",
       "    .dataframe tbody tr th:only-of-type {\n",
       "        vertical-align: middle;\n",
       "    }\n",
       "\n",
       "    .dataframe tbody tr th {\n",
       "        vertical-align: top;\n",
       "    }\n",
       "\n",
       "    .dataframe thead th {\n",
       "        text-align: right;\n",
       "    }\n",
       "</style>\n",
       "<table border=\"1\" class=\"dataframe\">\n",
       "  <thead>\n",
       "    <tr style=\"text-align: right;\">\n",
       "      <th></th>\n",
       "      <th>total_bill</th>\n",
       "      <th>tip</th>\n",
       "      <th>size</th>\n",
       "      <th>total_bill_trans</th>\n",
       "      <th>sex_Male</th>\n",
       "      <th>smoker_Yes</th>\n",
       "      <th>day_Sat</th>\n",
       "      <th>day_Sun</th>\n",
       "      <th>day_Thur</th>\n",
       "      <th>time_Lunch</th>\n",
       "    </tr>\n",
       "  </thead>\n",
       "  <tbody>\n",
       "    <tr>\n",
       "      <th>72</th>\n",
       "      <td>26.86</td>\n",
       "      <td>3.14</td>\n",
       "      <td>2</td>\n",
       "      <td>3.290638</td>\n",
       "      <td>False</td>\n",
       "      <td>True</td>\n",
       "      <td>True</td>\n",
       "      <td>False</td>\n",
       "      <td>False</td>\n",
       "      <td>False</td>\n",
       "    </tr>\n",
       "    <tr>\n",
       "      <th>78</th>\n",
       "      <td>22.76</td>\n",
       "      <td>3.00</td>\n",
       "      <td>2</td>\n",
       "      <td>3.125005</td>\n",
       "      <td>True</td>\n",
       "      <td>False</td>\n",
       "      <td>False</td>\n",
       "      <td>False</td>\n",
       "      <td>True</td>\n",
       "      <td>True</td>\n",
       "    </tr>\n",
       "    <tr>\n",
       "      <th>155</th>\n",
       "      <td>29.85</td>\n",
       "      <td>5.14</td>\n",
       "      <td>5</td>\n",
       "      <td>3.396185</td>\n",
       "      <td>False</td>\n",
       "      <td>False</td>\n",
       "      <td>False</td>\n",
       "      <td>True</td>\n",
       "      <td>False</td>\n",
       "      <td>False</td>\n",
       "    </tr>\n",
       "    <tr>\n",
       "      <th>3</th>\n",
       "      <td>23.68</td>\n",
       "      <td>3.31</td>\n",
       "      <td>2</td>\n",
       "      <td>3.164631</td>\n",
       "      <td>True</td>\n",
       "      <td>False</td>\n",
       "      <td>False</td>\n",
       "      <td>True</td>\n",
       "      <td>False</td>\n",
       "      <td>False</td>\n",
       "    </tr>\n",
       "    <tr>\n",
       "      <th>167</th>\n",
       "      <td>31.71</td>\n",
       "      <td>4.50</td>\n",
       "      <td>4</td>\n",
       "      <td>3.456632</td>\n",
       "      <td>True</td>\n",
       "      <td>False</td>\n",
       "      <td>False</td>\n",
       "      <td>True</td>\n",
       "      <td>False</td>\n",
       "      <td>False</td>\n",
       "    </tr>\n",
       "  </tbody>\n",
       "</table>\n",
       "</div>"
      ]
     },
     "execution_count": 310,
     "metadata": {},
     "output_type": "execute_result"
    }
   ],
   "execution_count": 310
  },
  {
   "cell_type": "markdown",
   "id": "54ebc8e9",
   "metadata": {
    "id": "54ebc8e9"
   },
   "source": [
    "### 20. Check the range of the column 'total_bill' and transform the values such that the range will be 1."
   ]
  },
  {
   "cell_type": "code",
   "id": "fb841382",
   "metadata": {
    "id": "fb841382",
    "ExecuteTime": {
     "end_time": "2024-10-27T13:52:35.126710Z",
     "start_time": "2024-10-27T13:52:35.120662Z"
    }
   },
   "source": [
    "tb_max = df['total_bill'].max()\n",
    "tb_min = df['total_bill'].min()\n",
    "range_ = tb_max-tb_min\n",
    "print(range_)"
   ],
   "outputs": [
    {
     "name": "stdout",
     "output_type": "stream",
     "text": [
      "47.74\n"
     ]
    }
   ],
   "execution_count": 311
  },
  {
   "metadata": {
    "ExecuteTime": {
     "end_time": "2024-10-27T13:52:35.224736Z",
     "start_time": "2024-10-27T13:52:35.214558Z"
    }
   },
   "cell_type": "code",
   "source": [
    "## initialize minmaxscalar\n",
    "mm = MinMaxScaler()"
   ],
   "id": "bf343b079c95653",
   "outputs": [],
   "execution_count": 312
  },
  {
   "metadata": {
    "ExecuteTime": {
     "end_time": "2024-10-27T13:52:35.339695Z",
     "start_time": "2024-10-27T13:52:35.332323Z"
    }
   },
   "cell_type": "code",
   "source": [
    "## Normalizing the values of the total_bill, so that the range will be 1.\n",
    "df['total_bill_mm'] = mm.fit_transform(df[['total_bill']])"
   ],
   "id": "dc1322ff926cedf4",
   "outputs": [],
   "execution_count": 313
  },
  {
   "metadata": {
    "ExecuteTime": {
     "end_time": "2024-10-27T13:52:35.428490Z",
     "start_time": "2024-10-27T13:52:35.422832Z"
    }
   },
   "cell_type": "code",
   "source": [
    "## checking the range after normalization\n",
    "tb_mm_max = df['total_bill_mm'].max()\n",
    "tb_mm_min = df['total_bill_mm'].min()\n",
    "range_ = tb_mm_max-tb_mm_min\n",
    "print(range_)"
   ],
   "id": "4898160083063065",
   "outputs": [
    {
     "name": "stdout",
     "output_type": "stream",
     "text": [
      "0.9999999999999999\n"
     ]
    }
   ],
   "execution_count": 314
  },
  {
   "cell_type": "markdown",
   "source": [
    "### 21. Load the dataset again by giving the name of the dataframe as \"tips_df\"\n",
    "- i) Encode the categorical variables.\n",
    "- ii) Store the target column (i.e.tip) in the y variable and the rest of the columns in the X variable"
   ],
   "metadata": {
    "id": "_yaGehJD5Fhe"
   },
   "id": "_yaGehJD5Fhe"
  },
  {
   "cell_type": "code",
   "source": [
    "## Encoding categorical variables\n",
    "tips_df = pd.read_csv('tips.csv')\n",
    "\n",
    "tips_df = pd.get_dummies(tips_df,drop_first=True)\n",
    "tips_df.head(2)"
   ],
   "metadata": {
    "id": "ruS7FI5s5Jt2",
    "ExecuteTime": {
     "end_time": "2024-10-27T13:52:35.530566Z",
     "start_time": "2024-10-27T13:52:35.497061Z"
    }
   },
   "id": "ruS7FI5s5Jt2",
   "outputs": [
    {
     "data": {
      "text/plain": [
       "   total_bill   tip  size  sex_Male  smoker_Yes  day_Sat  day_Sun  day_Thur  \\\n",
       "0       16.99  1.01     2     False       False    False     True     False   \n",
       "1       10.34  1.66     3      True       False    False     True     False   \n",
       "\n",
       "   time_Lunch  \n",
       "0       False  \n",
       "1       False  "
      ],
      "text/html": [
       "<div>\n",
       "<style scoped>\n",
       "    .dataframe tbody tr th:only-of-type {\n",
       "        vertical-align: middle;\n",
       "    }\n",
       "\n",
       "    .dataframe tbody tr th {\n",
       "        vertical-align: top;\n",
       "    }\n",
       "\n",
       "    .dataframe thead th {\n",
       "        text-align: right;\n",
       "    }\n",
       "</style>\n",
       "<table border=\"1\" class=\"dataframe\">\n",
       "  <thead>\n",
       "    <tr style=\"text-align: right;\">\n",
       "      <th></th>\n",
       "      <th>total_bill</th>\n",
       "      <th>tip</th>\n",
       "      <th>size</th>\n",
       "      <th>sex_Male</th>\n",
       "      <th>smoker_Yes</th>\n",
       "      <th>day_Sat</th>\n",
       "      <th>day_Sun</th>\n",
       "      <th>day_Thur</th>\n",
       "      <th>time_Lunch</th>\n",
       "    </tr>\n",
       "  </thead>\n",
       "  <tbody>\n",
       "    <tr>\n",
       "      <th>0</th>\n",
       "      <td>16.99</td>\n",
       "      <td>1.01</td>\n",
       "      <td>2</td>\n",
       "      <td>False</td>\n",
       "      <td>False</td>\n",
       "      <td>False</td>\n",
       "      <td>True</td>\n",
       "      <td>False</td>\n",
       "      <td>False</td>\n",
       "    </tr>\n",
       "    <tr>\n",
       "      <th>1</th>\n",
       "      <td>10.34</td>\n",
       "      <td>1.66</td>\n",
       "      <td>3</td>\n",
       "      <td>True</td>\n",
       "      <td>False</td>\n",
       "      <td>False</td>\n",
       "      <td>True</td>\n",
       "      <td>False</td>\n",
       "      <td>False</td>\n",
       "    </tr>\n",
       "  </tbody>\n",
       "</table>\n",
       "</div>"
      ]
     },
     "execution_count": 315,
     "metadata": {},
     "output_type": "execute_result"
    }
   ],
   "execution_count": 315
  },
  {
   "metadata": {
    "ExecuteTime": {
     "end_time": "2024-10-27T13:52:35.631763Z",
     "start_time": "2024-10-27T13:52:35.625724Z"
    }
   },
   "cell_type": "code",
   "source": [
    "## Storing the target column in Y variable and the rest of the columns in the X variable.\n",
    "X = tips_df.drop('tip',axis=1)\n",
    "y = tips_df['tip']"
   ],
   "id": "663d1db77d2659ba",
   "outputs": [],
   "execution_count": 316
  },
  {
   "metadata": {
    "ExecuteTime": {
     "end_time": "2024-10-27T13:52:35.838698Z",
     "start_time": "2024-10-27T13:52:35.834700Z"
    }
   },
   "cell_type": "code",
   "source": "# ALternate Solution",
   "id": "6fafdbcfce08632d",
   "outputs": [],
   "execution_count": 317
  },
  {
   "metadata": {
    "ExecuteTime": {
     "end_time": "2024-10-27T13:52:35.867416Z",
     "start_time": "2024-10-27T13:52:35.860715Z"
    }
   },
   "cell_type": "code",
   "source": [
    "# Load the dataset\n",
    "tips_df = pd.read_csv('tips.csv')\n",
    "\n",
    "# i) Encode the categorical variables\n",
    "label_encoders = {}\n",
    "categorical_cols = ['sex', 'smoker', 'day', 'time']\n"
   ],
   "id": "9ef70c24985fd186",
   "outputs": [],
   "execution_count": 318
  },
  {
   "metadata": {
    "ExecuteTime": {
     "end_time": "2024-10-27T13:52:35.921001Z",
     "start_time": "2024-10-27T13:52:35.915005Z"
    }
   },
   "cell_type": "code",
   "source": [
    "for col in categorical_cols:\n",
    "    le = LabelEncoder()\n",
    "    tips_df[col] = le.fit_transform(tips_df[col])\n",
    "    label_encoders[col] = le  # Store the label encoder for potential future use"
   ],
   "id": "30255861750c95da",
   "outputs": [],
   "execution_count": 319
  },
  {
   "metadata": {
    "ExecuteTime": {
     "end_time": "2024-10-27T13:52:35.980245Z",
     "start_time": "2024-10-27T13:52:35.970469Z"
    }
   },
   "cell_type": "code",
   "source": [
    "# ii) Store the target column in y and the rest of the columns in X\n",
    "y = tips_df['tip']\n",
    "X = tips_df.drop(columns=['tip'])\n",
    "\n",
    "# Display the first few rows of X and y\n",
    "print(\"X (Features):\")\n",
    "print(X.head())\n",
    "print(\"\\ny (Target):\")\n",
    "print(y.head())"
   ],
   "id": "f7ef6e6fccd61d5",
   "outputs": [
    {
     "name": "stdout",
     "output_type": "stream",
     "text": [
      "X (Features):\n",
      "   total_bill  sex  smoker  day  time  size\n",
      "0       16.99    0       0    2     0     2\n",
      "1       10.34    1       0    2     0     3\n",
      "2       21.01    1       0    2     0     3\n",
      "3       23.68    1       0    2     0     2\n",
      "4       24.59    0       0    2     0     4\n",
      "\n",
      "y (Target):\n",
      "0    1.01\n",
      "1    1.66\n",
      "2    3.50\n",
      "3    3.31\n",
      "4    3.61\n",
      "Name: tip, dtype: float64\n"
     ]
    }
   ],
   "execution_count": 320
  },
  {
   "cell_type": "markdown",
   "source": [
    "### 22. Split the dataset into two parts (i.e. 70% train and 30% test), and Standardize the columns \"total_bill\" and \"Size\" using the mim_max scaling approach"
   ],
   "metadata": {
    "id": "6jnqKmXQ5KB9"
   },
   "id": "6jnqKmXQ5KB9"
  },
  {
   "cell_type": "code",
   "source": [
    "## Split the data\n",
    "X_train, X_test, y_train, y_test = train_test_split(X,y,test_size=0.30)\n",
    "print(X_train.shape,X_test.shape)\n",
    "print(y_train.shape,y_test.shape)\n",
    "\n",
    "## Scaling the data using min max scaling\n",
    "mm = MinMaxScaler()\n",
    "\n",
    "X_train.iloc[:,:2] = mm.fit_transform(X_train.iloc[:,:2])\n",
    "X_test.iloc[:,:2] = mm.transform(X_test.iloc[:,:2])"
   ],
   "metadata": {
    "id": "l-jHM1e_5OSp",
    "ExecuteTime": {
     "end_time": "2024-10-27T13:52:36.049111Z",
     "start_time": "2024-10-27T13:52:36.037986Z"
    }
   },
   "id": "l-jHM1e_5OSp",
   "outputs": [
    {
     "name": "stdout",
     "output_type": "stream",
     "text": [
      "(170, 6) (74, 6)\n",
      "(170,) (74,)\n"
     ]
    }
   ],
   "execution_count": 321
  },
  {
   "metadata": {
    "ExecuteTime": {
     "end_time": "2024-10-27T13:52:36.126580Z",
     "start_time": "2024-10-27T13:52:36.112319Z"
    }
   },
   "cell_type": "code",
   "source": [
    "# Alternatively\n",
    "# Split the dataset into training and testing sets\n",
    "X_train, X_test, y_train, y_test = train_test_split(X, y, test_size=0.3, random_state=42)\n",
    "\n",
    "# Standardize the columns \"total_bill\" and \"size\" using Min-Max scaling\n",
    "scaler = MinMaxScaler()\n",
    "\n",
    "# Fit the scaler only on the training data\n",
    "X_train[['total_bill', 'size']] = scaler.fit_transform(X_train[['total_bill', 'size']])\n",
    "\n",
    "# Transform the test data using the same scaler\n",
    "X_test[['total_bill', 'size']] = scaler.transform(X_test[['total_bill', 'size']])\n",
    "\n",
    "# Display the standardized training data\n",
    "print(\"Standardized Training Data (first few rows):\")\n",
    "print(X_train.head())"
   ],
   "id": "d701d761865350a9",
   "outputs": [
    {
     "name": "stdout",
     "output_type": "stream",
     "text": [
      "Standardized Training Data (first few rows):\n",
      "     total_bill  sex  smoker  day  time  size\n",
      "234    0.217044    1       1    1     0   0.2\n",
      "227    0.326232    1       0    1     0   0.6\n",
      "180    0.641367    1       1    2     0   0.6\n",
      "5      0.433644    1       0    2     0   0.6\n",
      "56     0.715934    1       1    1     0   0.6\n"
     ]
    }
   ],
   "execution_count": 322
  },
  {
   "cell_type": "markdown",
   "source": [
    "### 23. Train a linear regression model using the training data and print the r_squared value of the prediction on the test data."
   ],
   "metadata": {
    "id": "6L5jwTPW5Oh-"
   },
   "id": "6L5jwTPW5Oh-"
  },
  {
   "cell_type": "code",
   "source": [
    "## Fitting a linear regression model on the train data\n",
    "lr = LinearRegression()\n",
    "lr.fit(X_train,y_train)"
   ],
   "metadata": {
    "id": "HODaP3gg5SHY",
    "ExecuteTime": {
     "end_time": "2024-10-27T13:52:36.247300Z",
     "start_time": "2024-10-27T13:52:36.237873Z"
    }
   },
   "id": "HODaP3gg5SHY",
   "outputs": [
    {
     "data": {
      "text/plain": [
       "LinearRegression()"
      ],
      "text/html": [
       "<style>#sk-container-id-4 {\n",
       "  /* Definition of color scheme common for light and dark mode */\n",
       "  --sklearn-color-text: black;\n",
       "  --sklearn-color-line: gray;\n",
       "  /* Definition of color scheme for unfitted estimators */\n",
       "  --sklearn-color-unfitted-level-0: #fff5e6;\n",
       "  --sklearn-color-unfitted-level-1: #f6e4d2;\n",
       "  --sklearn-color-unfitted-level-2: #ffe0b3;\n",
       "  --sklearn-color-unfitted-level-3: chocolate;\n",
       "  /* Definition of color scheme for fitted estimators */\n",
       "  --sklearn-color-fitted-level-0: #f0f8ff;\n",
       "  --sklearn-color-fitted-level-1: #d4ebff;\n",
       "  --sklearn-color-fitted-level-2: #b3dbfd;\n",
       "  --sklearn-color-fitted-level-3: cornflowerblue;\n",
       "\n",
       "  /* Specific color for light theme */\n",
       "  --sklearn-color-text-on-default-background: var(--sg-text-color, var(--theme-code-foreground, var(--jp-content-font-color1, black)));\n",
       "  --sklearn-color-background: var(--sg-background-color, var(--theme-background, var(--jp-layout-color0, white)));\n",
       "  --sklearn-color-border-box: var(--sg-text-color, var(--theme-code-foreground, var(--jp-content-font-color1, black)));\n",
       "  --sklearn-color-icon: #696969;\n",
       "\n",
       "  @media (prefers-color-scheme: dark) {\n",
       "    /* Redefinition of color scheme for dark theme */\n",
       "    --sklearn-color-text-on-default-background: var(--sg-text-color, var(--theme-code-foreground, var(--jp-content-font-color1, white)));\n",
       "    --sklearn-color-background: var(--sg-background-color, var(--theme-background, var(--jp-layout-color0, #111)));\n",
       "    --sklearn-color-border-box: var(--sg-text-color, var(--theme-code-foreground, var(--jp-content-font-color1, white)));\n",
       "    --sklearn-color-icon: #878787;\n",
       "  }\n",
       "}\n",
       "\n",
       "#sk-container-id-4 {\n",
       "  color: var(--sklearn-color-text);\n",
       "}\n",
       "\n",
       "#sk-container-id-4 pre {\n",
       "  padding: 0;\n",
       "}\n",
       "\n",
       "#sk-container-id-4 input.sk-hidden--visually {\n",
       "  border: 0;\n",
       "  clip: rect(1px 1px 1px 1px);\n",
       "  clip: rect(1px, 1px, 1px, 1px);\n",
       "  height: 1px;\n",
       "  margin: -1px;\n",
       "  overflow: hidden;\n",
       "  padding: 0;\n",
       "  position: absolute;\n",
       "  width: 1px;\n",
       "}\n",
       "\n",
       "#sk-container-id-4 div.sk-dashed-wrapped {\n",
       "  border: 1px dashed var(--sklearn-color-line);\n",
       "  margin: 0 0.4em 0.5em 0.4em;\n",
       "  box-sizing: border-box;\n",
       "  padding-bottom: 0.4em;\n",
       "  background-color: var(--sklearn-color-background);\n",
       "}\n",
       "\n",
       "#sk-container-id-4 div.sk-container {\n",
       "  /* jupyter's `normalize.less` sets `[hidden] { display: none; }`\n",
       "     but bootstrap.min.css set `[hidden] { display: none !important; }`\n",
       "     so we also need the `!important` here to be able to override the\n",
       "     default hidden behavior on the sphinx rendered scikit-learn.org.\n",
       "     See: https://github.com/scikit-learn/scikit-learn/issues/21755 */\n",
       "  display: inline-block !important;\n",
       "  position: relative;\n",
       "}\n",
       "\n",
       "#sk-container-id-4 div.sk-text-repr-fallback {\n",
       "  display: none;\n",
       "}\n",
       "\n",
       "div.sk-parallel-item,\n",
       "div.sk-serial,\n",
       "div.sk-item {\n",
       "  /* draw centered vertical line to link estimators */\n",
       "  background-image: linear-gradient(var(--sklearn-color-text-on-default-background), var(--sklearn-color-text-on-default-background));\n",
       "  background-size: 2px 100%;\n",
       "  background-repeat: no-repeat;\n",
       "  background-position: center center;\n",
       "}\n",
       "\n",
       "/* Parallel-specific style estimator block */\n",
       "\n",
       "#sk-container-id-4 div.sk-parallel-item::after {\n",
       "  content: \"\";\n",
       "  width: 100%;\n",
       "  border-bottom: 2px solid var(--sklearn-color-text-on-default-background);\n",
       "  flex-grow: 1;\n",
       "}\n",
       "\n",
       "#sk-container-id-4 div.sk-parallel {\n",
       "  display: flex;\n",
       "  align-items: stretch;\n",
       "  justify-content: center;\n",
       "  background-color: var(--sklearn-color-background);\n",
       "  position: relative;\n",
       "}\n",
       "\n",
       "#sk-container-id-4 div.sk-parallel-item {\n",
       "  display: flex;\n",
       "  flex-direction: column;\n",
       "}\n",
       "\n",
       "#sk-container-id-4 div.sk-parallel-item:first-child::after {\n",
       "  align-self: flex-end;\n",
       "  width: 50%;\n",
       "}\n",
       "\n",
       "#sk-container-id-4 div.sk-parallel-item:last-child::after {\n",
       "  align-self: flex-start;\n",
       "  width: 50%;\n",
       "}\n",
       "\n",
       "#sk-container-id-4 div.sk-parallel-item:only-child::after {\n",
       "  width: 0;\n",
       "}\n",
       "\n",
       "/* Serial-specific style estimator block */\n",
       "\n",
       "#sk-container-id-4 div.sk-serial {\n",
       "  display: flex;\n",
       "  flex-direction: column;\n",
       "  align-items: center;\n",
       "  background-color: var(--sklearn-color-background);\n",
       "  padding-right: 1em;\n",
       "  padding-left: 1em;\n",
       "}\n",
       "\n",
       "\n",
       "/* Toggleable style: style used for estimator/Pipeline/ColumnTransformer box that is\n",
       "clickable and can be expanded/collapsed.\n",
       "- Pipeline and ColumnTransformer use this feature and define the default style\n",
       "- Estimators will overwrite some part of the style using the `sk-estimator` class\n",
       "*/\n",
       "\n",
       "/* Pipeline and ColumnTransformer style (default) */\n",
       "\n",
       "#sk-container-id-4 div.sk-toggleable {\n",
       "  /* Default theme specific background. It is overwritten whether we have a\n",
       "  specific estimator or a Pipeline/ColumnTransformer */\n",
       "  background-color: var(--sklearn-color-background);\n",
       "}\n",
       "\n",
       "/* Toggleable label */\n",
       "#sk-container-id-4 label.sk-toggleable__label {\n",
       "  cursor: pointer;\n",
       "  display: block;\n",
       "  width: 100%;\n",
       "  margin-bottom: 0;\n",
       "  padding: 0.5em;\n",
       "  box-sizing: border-box;\n",
       "  text-align: center;\n",
       "}\n",
       "\n",
       "#sk-container-id-4 label.sk-toggleable__label-arrow:before {\n",
       "  /* Arrow on the left of the label */\n",
       "  content: \"▸\";\n",
       "  float: left;\n",
       "  margin-right: 0.25em;\n",
       "  color: var(--sklearn-color-icon);\n",
       "}\n",
       "\n",
       "#sk-container-id-4 label.sk-toggleable__label-arrow:hover:before {\n",
       "  color: var(--sklearn-color-text);\n",
       "}\n",
       "\n",
       "/* Toggleable content - dropdown */\n",
       "\n",
       "#sk-container-id-4 div.sk-toggleable__content {\n",
       "  max-height: 0;\n",
       "  max-width: 0;\n",
       "  overflow: hidden;\n",
       "  text-align: left;\n",
       "  /* unfitted */\n",
       "  background-color: var(--sklearn-color-unfitted-level-0);\n",
       "}\n",
       "\n",
       "#sk-container-id-4 div.sk-toggleable__content.fitted {\n",
       "  /* fitted */\n",
       "  background-color: var(--sklearn-color-fitted-level-0);\n",
       "}\n",
       "\n",
       "#sk-container-id-4 div.sk-toggleable__content pre {\n",
       "  margin: 0.2em;\n",
       "  border-radius: 0.25em;\n",
       "  color: var(--sklearn-color-text);\n",
       "  /* unfitted */\n",
       "  background-color: var(--sklearn-color-unfitted-level-0);\n",
       "}\n",
       "\n",
       "#sk-container-id-4 div.sk-toggleable__content.fitted pre {\n",
       "  /* unfitted */\n",
       "  background-color: var(--sklearn-color-fitted-level-0);\n",
       "}\n",
       "\n",
       "#sk-container-id-4 input.sk-toggleable__control:checked~div.sk-toggleable__content {\n",
       "  /* Expand drop-down */\n",
       "  max-height: 200px;\n",
       "  max-width: 100%;\n",
       "  overflow: auto;\n",
       "}\n",
       "\n",
       "#sk-container-id-4 input.sk-toggleable__control:checked~label.sk-toggleable__label-arrow:before {\n",
       "  content: \"▾\";\n",
       "}\n",
       "\n",
       "/* Pipeline/ColumnTransformer-specific style */\n",
       "\n",
       "#sk-container-id-4 div.sk-label input.sk-toggleable__control:checked~label.sk-toggleable__label {\n",
       "  color: var(--sklearn-color-text);\n",
       "  background-color: var(--sklearn-color-unfitted-level-2);\n",
       "}\n",
       "\n",
       "#sk-container-id-4 div.sk-label.fitted input.sk-toggleable__control:checked~label.sk-toggleable__label {\n",
       "  background-color: var(--sklearn-color-fitted-level-2);\n",
       "}\n",
       "\n",
       "/* Estimator-specific style */\n",
       "\n",
       "/* Colorize estimator box */\n",
       "#sk-container-id-4 div.sk-estimator input.sk-toggleable__control:checked~label.sk-toggleable__label {\n",
       "  /* unfitted */\n",
       "  background-color: var(--sklearn-color-unfitted-level-2);\n",
       "}\n",
       "\n",
       "#sk-container-id-4 div.sk-estimator.fitted input.sk-toggleable__control:checked~label.sk-toggleable__label {\n",
       "  /* fitted */\n",
       "  background-color: var(--sklearn-color-fitted-level-2);\n",
       "}\n",
       "\n",
       "#sk-container-id-4 div.sk-label label.sk-toggleable__label,\n",
       "#sk-container-id-4 div.sk-label label {\n",
       "  /* The background is the default theme color */\n",
       "  color: var(--sklearn-color-text-on-default-background);\n",
       "}\n",
       "\n",
       "/* On hover, darken the color of the background */\n",
       "#sk-container-id-4 div.sk-label:hover label.sk-toggleable__label {\n",
       "  color: var(--sklearn-color-text);\n",
       "  background-color: var(--sklearn-color-unfitted-level-2);\n",
       "}\n",
       "\n",
       "/* Label box, darken color on hover, fitted */\n",
       "#sk-container-id-4 div.sk-label.fitted:hover label.sk-toggleable__label.fitted {\n",
       "  color: var(--sklearn-color-text);\n",
       "  background-color: var(--sklearn-color-fitted-level-2);\n",
       "}\n",
       "\n",
       "/* Estimator label */\n",
       "\n",
       "#sk-container-id-4 div.sk-label label {\n",
       "  font-family: monospace;\n",
       "  font-weight: bold;\n",
       "  display: inline-block;\n",
       "  line-height: 1.2em;\n",
       "}\n",
       "\n",
       "#sk-container-id-4 div.sk-label-container {\n",
       "  text-align: center;\n",
       "}\n",
       "\n",
       "/* Estimator-specific */\n",
       "#sk-container-id-4 div.sk-estimator {\n",
       "  font-family: monospace;\n",
       "  border: 1px dotted var(--sklearn-color-border-box);\n",
       "  border-radius: 0.25em;\n",
       "  box-sizing: border-box;\n",
       "  margin-bottom: 0.5em;\n",
       "  /* unfitted */\n",
       "  background-color: var(--sklearn-color-unfitted-level-0);\n",
       "}\n",
       "\n",
       "#sk-container-id-4 div.sk-estimator.fitted {\n",
       "  /* fitted */\n",
       "  background-color: var(--sklearn-color-fitted-level-0);\n",
       "}\n",
       "\n",
       "/* on hover */\n",
       "#sk-container-id-4 div.sk-estimator:hover {\n",
       "  /* unfitted */\n",
       "  background-color: var(--sklearn-color-unfitted-level-2);\n",
       "}\n",
       "\n",
       "#sk-container-id-4 div.sk-estimator.fitted:hover {\n",
       "  /* fitted */\n",
       "  background-color: var(--sklearn-color-fitted-level-2);\n",
       "}\n",
       "\n",
       "/* Specification for estimator info (e.g. \"i\" and \"?\") */\n",
       "\n",
       "/* Common style for \"i\" and \"?\" */\n",
       "\n",
       ".sk-estimator-doc-link,\n",
       "a:link.sk-estimator-doc-link,\n",
       "a:visited.sk-estimator-doc-link {\n",
       "  float: right;\n",
       "  font-size: smaller;\n",
       "  line-height: 1em;\n",
       "  font-family: monospace;\n",
       "  background-color: var(--sklearn-color-background);\n",
       "  border-radius: 1em;\n",
       "  height: 1em;\n",
       "  width: 1em;\n",
       "  text-decoration: none !important;\n",
       "  margin-left: 1ex;\n",
       "  /* unfitted */\n",
       "  border: var(--sklearn-color-unfitted-level-1) 1pt solid;\n",
       "  color: var(--sklearn-color-unfitted-level-1);\n",
       "}\n",
       "\n",
       ".sk-estimator-doc-link.fitted,\n",
       "a:link.sk-estimator-doc-link.fitted,\n",
       "a:visited.sk-estimator-doc-link.fitted {\n",
       "  /* fitted */\n",
       "  border: var(--sklearn-color-fitted-level-1) 1pt solid;\n",
       "  color: var(--sklearn-color-fitted-level-1);\n",
       "}\n",
       "\n",
       "/* On hover */\n",
       "div.sk-estimator:hover .sk-estimator-doc-link:hover,\n",
       ".sk-estimator-doc-link:hover,\n",
       "div.sk-label-container:hover .sk-estimator-doc-link:hover,\n",
       ".sk-estimator-doc-link:hover {\n",
       "  /* unfitted */\n",
       "  background-color: var(--sklearn-color-unfitted-level-3);\n",
       "  color: var(--sklearn-color-background);\n",
       "  text-decoration: none;\n",
       "}\n",
       "\n",
       "div.sk-estimator.fitted:hover .sk-estimator-doc-link.fitted:hover,\n",
       ".sk-estimator-doc-link.fitted:hover,\n",
       "div.sk-label-container:hover .sk-estimator-doc-link.fitted:hover,\n",
       ".sk-estimator-doc-link.fitted:hover {\n",
       "  /* fitted */\n",
       "  background-color: var(--sklearn-color-fitted-level-3);\n",
       "  color: var(--sklearn-color-background);\n",
       "  text-decoration: none;\n",
       "}\n",
       "\n",
       "/* Span, style for the box shown on hovering the info icon */\n",
       ".sk-estimator-doc-link span {\n",
       "  display: none;\n",
       "  z-index: 9999;\n",
       "  position: relative;\n",
       "  font-weight: normal;\n",
       "  right: .2ex;\n",
       "  padding: .5ex;\n",
       "  margin: .5ex;\n",
       "  width: min-content;\n",
       "  min-width: 20ex;\n",
       "  max-width: 50ex;\n",
       "  color: var(--sklearn-color-text);\n",
       "  box-shadow: 2pt 2pt 4pt #999;\n",
       "  /* unfitted */\n",
       "  background: var(--sklearn-color-unfitted-level-0);\n",
       "  border: .5pt solid var(--sklearn-color-unfitted-level-3);\n",
       "}\n",
       "\n",
       ".sk-estimator-doc-link.fitted span {\n",
       "  /* fitted */\n",
       "  background: var(--sklearn-color-fitted-level-0);\n",
       "  border: var(--sklearn-color-fitted-level-3);\n",
       "}\n",
       "\n",
       ".sk-estimator-doc-link:hover span {\n",
       "  display: block;\n",
       "}\n",
       "\n",
       "/* \"?\"-specific style due to the `<a>` HTML tag */\n",
       "\n",
       "#sk-container-id-4 a.estimator_doc_link {\n",
       "  float: right;\n",
       "  font-size: 1rem;\n",
       "  line-height: 1em;\n",
       "  font-family: monospace;\n",
       "  background-color: var(--sklearn-color-background);\n",
       "  border-radius: 1rem;\n",
       "  height: 1rem;\n",
       "  width: 1rem;\n",
       "  text-decoration: none;\n",
       "  /* unfitted */\n",
       "  color: var(--sklearn-color-unfitted-level-1);\n",
       "  border: var(--sklearn-color-unfitted-level-1) 1pt solid;\n",
       "}\n",
       "\n",
       "#sk-container-id-4 a.estimator_doc_link.fitted {\n",
       "  /* fitted */\n",
       "  border: var(--sklearn-color-fitted-level-1) 1pt solid;\n",
       "  color: var(--sklearn-color-fitted-level-1);\n",
       "}\n",
       "\n",
       "/* On hover */\n",
       "#sk-container-id-4 a.estimator_doc_link:hover {\n",
       "  /* unfitted */\n",
       "  background-color: var(--sklearn-color-unfitted-level-3);\n",
       "  color: var(--sklearn-color-background);\n",
       "  text-decoration: none;\n",
       "}\n",
       "\n",
       "#sk-container-id-4 a.estimator_doc_link.fitted:hover {\n",
       "  /* fitted */\n",
       "  background-color: var(--sklearn-color-fitted-level-3);\n",
       "}\n",
       "</style><div id=\"sk-container-id-4\" class=\"sk-top-container\"><div class=\"sk-text-repr-fallback\"><pre>LinearRegression()</pre><b>In a Jupyter environment, please rerun this cell to show the HTML representation or trust the notebook. <br />On GitHub, the HTML representation is unable to render, please try loading this page with nbviewer.org.</b></div><div class=\"sk-container\" hidden><div class=\"sk-item\"><div class=\"sk-estimator fitted sk-toggleable\"><input class=\"sk-toggleable__control sk-hidden--visually\" id=\"sk-estimator-id-4\" type=\"checkbox\" checked><label for=\"sk-estimator-id-4\" class=\"sk-toggleable__label fitted sk-toggleable__label-arrow fitted\">&nbsp;&nbsp;LinearRegression<a class=\"sk-estimator-doc-link fitted\" rel=\"noreferrer\" target=\"_blank\" href=\"https://scikit-learn.org/1.4/modules/generated/sklearn.linear_model.LinearRegression.html\">?<span>Documentation for LinearRegression</span></a><span class=\"sk-estimator-doc-link fitted\">i<span>Fitted</span></span></label><div class=\"sk-toggleable__content fitted\"><pre>LinearRegression()</pre></div> </div></div></div></div>"
      ]
     },
     "execution_count": 323,
     "metadata": {},
     "output_type": "execute_result"
    }
   ],
   "execution_count": 323
  },
  {
   "metadata": {
    "ExecuteTime": {
     "end_time": "2024-10-27T13:52:36.346036Z",
     "start_time": "2024-10-27T13:52:36.340521Z"
    }
   },
   "cell_type": "code",
   "source": [
    "## Making predictions on the test data\n",
    "pred = lr.predict(X_test)"
   ],
   "id": "8d07c5661239253f",
   "outputs": [],
   "execution_count": 324
  },
  {
   "metadata": {
    "ExecuteTime": {
     "end_time": "2024-10-27T13:52:36.448621Z",
     "start_time": "2024-10-27T13:52:36.443229Z"
    }
   },
   "cell_type": "code",
   "source": [
    "## Computing r2_score\n",
    "print('r2-score test:', r2_score(y_test,pred))"
   ],
   "id": "ad077b44e80cbf0",
   "outputs": [
    {
     "name": "stdout",
     "output_type": "stream",
     "text": [
      "r2-score test: 0.2911426514546809\n"
     ]
    }
   ],
   "execution_count": 325
  },
  {
   "metadata": {
    "ExecuteTime": {
     "end_time": "2024-10-27T13:52:36.581715Z",
     "start_time": "2024-10-27T13:52:36.578138Z"
    }
   },
   "cell_type": "code",
   "source": "# Alternatively\n",
   "id": "c5840a0939e885ef",
   "outputs": [],
   "execution_count": 326
  },
  {
   "metadata": {
    "ExecuteTime": {
     "end_time": "2024-10-27T13:52:36.643087Z",
     "start_time": "2024-10-27T13:52:36.634587Z"
    }
   },
   "cell_type": "code",
   "source": [
    "# Load the dataset\n",
    "tips_df = pd.read_csv('tips.csv')\n",
    "\n",
    "# Encode categorical variables\n",
    "label_encoders = {}\n",
    "categorical_cols = ['sex', 'smoker', 'day', 'time']\n",
    "\n",
    "for col in categorical_cols:\n",
    "    le = LabelEncoder()\n",
    "    tips_df[col] = le.fit_transform(tips_df[col])\n",
    "    label_encoders[col] = le"
   ],
   "id": "925e4b4c6a99366b",
   "outputs": [],
   "execution_count": 327
  },
  {
   "metadata": {
    "ExecuteTime": {
     "end_time": "2024-10-27T13:52:36.699909Z",
     "start_time": "2024-10-27T13:52:36.693105Z"
    }
   },
   "cell_type": "code",
   "source": [
    "# Store target and features\n",
    "y = tips_df['tip']\n",
    "X = tips_df.drop(columns=['tip'])\n",
    "\n",
    "# Split the dataset into training and testing sets\n",
    "X_train, X_test, y_train, y_test = train_test_split(X, y, test_size=0.3, random_state=42)\n",
    "\n",
    "# Standardize the columns \"total_bill\" and \"size\" using Min-Max scaling\n",
    "scaler = MinMaxScaler()\n"
   ],
   "id": "b18fec65751a192f",
   "outputs": [],
   "execution_count": 328
  },
  {
   "metadata": {
    "ExecuteTime": {
     "end_time": "2024-10-27T13:52:36.756766Z",
     "start_time": "2024-10-27T13:52:36.746422Z"
    }
   },
   "cell_type": "code",
   "source": [
    "# Fit the scaler only on the training data\n",
    "X_train[['total_bill', 'size']] = scaler.fit_transform(X_train[['total_bill', 'size']])\n",
    "\n",
    "# Transform the test data using the same scaler\n",
    "X_test[['total_bill', 'size']] = scaler.transform(X_test[['total_bill', 'size']])\n",
    "\n",
    "# Train a linear regression model\n",
    "model = LinearRegression()\n",
    "model.fit(X_train, y_train)\n",
    "\n",
    "# Make predictions on the test data\n",
    "y_pred = model.predict(X_test)"
   ],
   "id": "4d7fdc6f4635c431",
   "outputs": [],
   "execution_count": 329
  },
  {
   "metadata": {
    "ExecuteTime": {
     "end_time": "2024-10-27T13:53:07.060600Z",
     "start_time": "2024-10-27T13:53:07.055093Z"
    }
   },
   "cell_type": "code",
   "source": [
    "# Calculate R-squared value\n",
    "r_squared = r2_score(y_test, y_pred)\n",
    "\n",
    "# Print the R-squared value\n",
    "print(f\"\\nR-squared value of the prediction on the test data: {r_squared:.4f}\")"
   ],
   "id": "fb18cb5d38adc589",
   "outputs": [
    {
     "name": "stdout",
     "output_type": "stream",
     "text": [
      "\n",
      "R-squared value of the prediction on the test data: 0.2911\n"
     ]
    }
   ],
   "execution_count": 331
  },
  {
   "cell_type": "markdown",
   "id": "388b6163",
   "metadata": {
    "id": "388b6163"
   },
   "source": [
    "### Happy Learning:)"
   ]
  }
 ],
 "metadata": {
  "kernelspec": {
   "display_name": "Python 3 (ipykernel)",
   "language": "python",
   "name": "python3"
  },
  "language_info": {
   "codemirror_mode": {
    "name": "ipython",
    "version": 3
   },
   "file_extension": ".py",
   "mimetype": "text/x-python",
   "name": "python",
   "nbconvert_exporter": "python",
   "pygments_lexer": "ipython3",
   "version": "3.9.7"
  },
  "colab": {
   "name": "W3 - W6 Lab Session.ipynb",
   "provenance": []
  }
 },
 "nbformat": 4,
 "nbformat_minor": 5
}
